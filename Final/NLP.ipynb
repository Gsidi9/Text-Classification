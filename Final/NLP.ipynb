{
 "cells": [
  {
   "cell_type": "markdown",
   "metadata": {},
   "source": [
    "# Sentiment Analysis of Amazon's customer reviews\n",
    "**Author:** Goundo Sidibe <br>\n",
    "**Sources:** *https://jmcauley.ucsd.edu/data/amazon/*<br>\n",
    "**Reference:** *https://www.youtube.com/watch?v=o1Bb7G4szQQ&t=1203s\n",
    "        \n",
    "        \n",
    "## Introduction to the Case study\n",
    "\n",
    "**Objective.** \n",
    " Since the Amazon website gives consumers the ability to write comments about different products and services, huge amounts of reviews have become available. The need to analyse those reviews to understand consumers’  has increased for sellers. However, it is difficult to read all the reviews for a particular item especially for the popular items with many comments. To simplify this process, sentiment analysis is applied in which machine learning algorithms are used to extract the sentiments of reviews. NLP is being processed in this documentation. SVM and Naive Baye machine algorithm are used to classify amazon reviews because it was found through my research that this model exhibit better accuracy when classifying text. I would also implement a logistic regression algorithm as is a binary classifier. The best machine learning model is then deployed to an interactive dashboard that would showcase the data in a simple and organise manner to the amazon sellers.\n",
    "\n",
    "\n",
    "**Problem Statement.**  \n",
    "* Which machine learning model performs better in terms of accuracy on the Amazon reviews?\n",
    "* How to detect the aspects of sentiments shown in the reviews effectively? \n",
    "<br><br>\n",
    "The first question underlines the need to manage a large amount of data ( reviews) automatically and improve the performance of the sentiment classification model. The second question focuses on the emphasis to identify the sentiments of the reviews.\n",
    "\n",
    "**Analytical Context.** The data is a set of reviews in CSV file format. In this project, I combined some text processing procedures and developed some classification models that are capable of classifying reviews by sentiment.\n",
    "\n",
    "The things I have done are:\n",
    "1. Read and analyze the input text data and the corresponding response variables (ratings)\n",
    "2. Perform basic pre-processing to prepare the data for modeling\n",
    "3. Learn and apply various ways of featurizing the reviews text\n",
    "4. Build several machine learning models to classify text as either exhibiting positive or negative sentiment (1 or 0).\n",
    "5. Compared the models\n",
    "6. Over-sampling the inbalance data\n",
    "7. Under-sapling the inbalance data\n",
    "8. Metrics - ROC and Confusion Matrix"
   ]
  },
  {
   "cell_type": "markdown",
   "metadata": {},
   "source": [
    "## Importing the packages \n",
    "\n",
    "The first four packages are: ```pandas```,``` numpy```, ```matplotlib``` and ``` seaborn```. I imported these packages using the keyword ``import``and  changed the name from ``pandas`` to ```pd```,```numpy``` to ```np```,```matplotlib``` to ```plt```and ```seaborn``` to ```sns```, using the keyword ``as``.\n",
    "\n",
    "I also imported `nltk`, `sklearn`, `collections` and `wordcloud` packages for processing our text component. The `sklearn` package will be used to build the machine learnings models.\n",
    "\n"
   ]
  },
  {
   "cell_type": "code",
   "execution_count": 1,
   "metadata": {},
   "outputs": [],
   "source": [
    "# General packages\n",
    "import numpy as np \n",
    "import pandas as pd\n",
    "import seaborn as sns\n",
    "import matplotlib.pyplot as plt\n",
    "%matplotlib inline\n",
    "import os\n",
    "\n",
    "# NLP packages\n",
    "import nltk\n",
    "from nltk import word_tokenize\n",
    "from nltk.corpus import stopwords\n",
    "# from sklearn.feature_extraction.text import CountVectorizer\n",
    "from sklearn.feature_extraction.text import TfidfVectorizer\n",
    "from collections import Counter\n",
    "from wordcloud import WordCloud\n",
    "\n",
    "#Model pakages\n",
    "from sklearn.model_selection import train_test_split\n",
    "from sklearn.linear_model import LogisticRegression\n",
    "from sklearn.naive_bayes import MultinomialNB\n",
    "from sklearn.svm import SVC\n",
    "\n",
    "# Metric pakages\n",
    "from sklearn.model_selection import cross_val_score\n",
    "from sklearn.metrics import classification_report\n",
    "from sklearn.metrics import confusion_matrix\n",
    "from sklearn.metrics import accuracy_score\n",
    "from sklearn.model_selection import KFold\n",
    "\n",
    "from pylab import rcParams\n",
    "import warnings\n",
    "warnings.filterwarnings(\"ignore\")\n",
    "rcParams['figure.figsize'] = 20, 10\n",
    "plt.style.use('ggplot')"
   ]
  },
  {
   "cell_type": "markdown",
   "metadata": {},
   "source": [
    "The dataset collected from ucds.eu contains information of 10,261 customers written reviews on Amazon musical instruments. Each review contains textual feedback along with a 1-to-5 star rating system (1 being least satisfied and 5 being most satisfied). The following attributes are available in the data:\n",
    "\n",
    "1. **reviewerID:** ID of the reviewer.\n",
    "2. **asin:** ID of the product.\n",
    "3. **reviewerName:** name of the reviewer.\n",
    "4. **helpful:** helpfulness rating of the review.\n",
    "5. **reviewTex:** text of the review.\n",
    "6. **overall:** rating of the product.\n",
    "7. **summary:** summary of the review.\n",
    "8. **unixReviewTime:** time of the review (unix time).\n",
    "9. **reviewTime:** time of the review (raw)."
   ]
  },
  {
   "cell_type": "markdown",
   "metadata": {},
   "source": [
    "## Reading and performing basic analysis of the data\n",
    "\n",
    " Read the available data and perform some high-level analysis on it:"
   ]
  },
  {
   "cell_type": "code",
   "execution_count": 2,
   "metadata": {},
   "outputs": [
    {
     "data": {
      "text/html": [
       "<div>\n",
       "<style scoped>\n",
       "    .dataframe tbody tr th:only-of-type {\n",
       "        vertical-align: middle;\n",
       "    }\n",
       "\n",
       "    .dataframe tbody tr th {\n",
       "        vertical-align: top;\n",
       "    }\n",
       "\n",
       "    .dataframe thead th {\n",
       "        text-align: right;\n",
       "    }\n",
       "</style>\n",
       "<table border=\"1\" class=\"dataframe\">\n",
       "  <thead>\n",
       "    <tr style=\"text-align: right;\">\n",
       "      <th></th>\n",
       "      <th>reviewerID</th>\n",
       "      <th>asin</th>\n",
       "      <th>reviewerName</th>\n",
       "      <th>helpful</th>\n",
       "      <th>reviewText</th>\n",
       "      <th>overall</th>\n",
       "      <th>summary</th>\n",
       "      <th>unixReviewTime</th>\n",
       "      <th>reviewTime</th>\n",
       "    </tr>\n",
       "  </thead>\n",
       "  <tbody>\n",
       "    <tr>\n",
       "      <td>0</td>\n",
       "      <td>A2IBPI20UZIR0U</td>\n",
       "      <td>1384719342</td>\n",
       "      <td>cassandra tu \"Yeah, well, that's just like, u...</td>\n",
       "      <td>[0,0]</td>\n",
       "      <td>Not much to write about here, but it does exac...</td>\n",
       "      <td>5.0</td>\n",
       "      <td>good</td>\n",
       "      <td>1393545600</td>\n",
       "      <td>02 28, 2014</td>\n",
       "    </tr>\n",
       "    <tr>\n",
       "      <td>1</td>\n",
       "      <td>A14VAT5EAX3D9S</td>\n",
       "      <td>1384719342</td>\n",
       "      <td>Jake</td>\n",
       "      <td>[13,14]</td>\n",
       "      <td>The product does exactly as it should and is q...</td>\n",
       "      <td>5.0</td>\n",
       "      <td>Jake</td>\n",
       "      <td>1363392000</td>\n",
       "      <td>03 16, 2013</td>\n",
       "    </tr>\n",
       "    <tr>\n",
       "      <td>2</td>\n",
       "      <td>A195EZSQDW3E21</td>\n",
       "      <td>1384719342</td>\n",
       "      <td>Rick Bennette \"Rick Bennette\"</td>\n",
       "      <td>[1,1]</td>\n",
       "      <td>The primary job of this device is to block the...</td>\n",
       "      <td>5.0</td>\n",
       "      <td>It Does The Job Well</td>\n",
       "      <td>1377648000</td>\n",
       "      <td>08 28, 2013</td>\n",
       "    </tr>\n",
       "  </tbody>\n",
       "</table>\n",
       "</div>"
      ],
      "text/plain": [
       "       reviewerID        asin  \\\n",
       "0  A2IBPI20UZIR0U  1384719342   \n",
       "1  A14VAT5EAX3D9S  1384719342   \n",
       "2  A195EZSQDW3E21  1384719342   \n",
       "\n",
       "                                       reviewerName  helpful  \\\n",
       "0  cassandra tu \"Yeah, well, that's just like, u...    [0,0]   \n",
       "1                                              Jake  [13,14]   \n",
       "2                     Rick Bennette \"Rick Bennette\"    [1,1]   \n",
       "\n",
       "                                          reviewText  overall  \\\n",
       "0  Not much to write about here, but it does exac...      5.0   \n",
       "1  The product does exactly as it should and is q...      5.0   \n",
       "2  The primary job of this device is to block the...      5.0   \n",
       "\n",
       "                summary  unixReviewTime   reviewTime  \n",
       "0                  good      1393545600  02 28, 2014  \n",
       "1                  Jake      1363392000  03 16, 2013  \n",
       "2  It Does The Job Well      1377648000  08 28, 2013  "
      ]
     },
     "execution_count": 2,
     "metadata": {},
     "output_type": "execute_result"
    }
   ],
   "source": [
    "amazon_df = pd.read_csv('/Users/goundosidibe/Documents/konbert-export-8c6dfc1aa7f94.csv')\n",
    "amazon_df.head(3)"
   ]
  },
  {
   "cell_type": "code",
   "execution_count": 3,
   "metadata": {},
   "outputs": [
    {
     "data": {
      "text/plain": [
       "(10261, 9)"
      ]
     },
     "execution_count": 3,
     "metadata": {},
     "output_type": "execute_result"
    }
   ],
   "source": [
    "amazon_df.shape"
   ]
  },
  {
   "cell_type": "code",
   "execution_count": 4,
   "metadata": {},
   "outputs": [],
   "source": [
    "amazon_df = amazon_df.dropna(subset=['reviewText'])"
   ]
  },
  {
   "cell_type": "code",
   "execution_count": 5,
   "metadata": {},
   "outputs": [],
   "source": [
    "#Converting the reviews format to string\n",
    "amazon_df.reviewText= amazon_df.reviewText.astype('str')"
   ]
  },
  {
   "cell_type": "code",
   "execution_count": 6,
   "metadata": {},
   "outputs": [
    {
     "data": {
      "image/png": "[encoded data removed]",
      "text/plain": [
       "<Figure size 1440x576 with 1 Axes>"
      ]
     },
     "metadata": {
      "needs_background": "light"
     },
     "output_type": "display_data"
    }
   ],
   "source": [
    "#Looking at the distribution of number of words per review\n",
    "#applying a lambda function to splits each complete review by spaces \n",
    "words_per_review = amazon_df.reviewText.apply(lambda x: len(x.split(\" \")))\n",
    "words_per_review.hist(bins = 100, figsize=(20,8))\n",
    "plt.title('Word Distribution')\n",
    "plt.xlabel('Review Length (words)', fontsize=20)\n",
    "plt.ylabel('Frequency', fontsize=20)\n",
    "plt.show()"
   ]
  },
  {
   "cell_type": "code",
   "execution_count": 7,
   "metadata": {},
   "outputs": [
    {
     "name": "stdout",
     "output_type": "stream",
     "text": [
      "Average words: 91.72869124244197\n",
      "Skewness: 4.843791756248633\n"
     ]
    }
   ],
   "source": [
    "print('Average words:', words_per_review.mean())\n",
    "print('Skewness:', words_per_review.skew())"
   ]
  },
  {
   "cell_type": "markdown",
   "metadata": {},
   "source": [
    "The number of words per review is highly positively skewed with a mean of 91. This means that on average, the reviews have 99 words."
   ]
  },
  {
   "cell_type": "code",
   "execution_count": 8,
   "metadata": {},
   "outputs": [
    {
     "data": {
      "image/png": "[encoded data removed]",
      "text/plain": [
       "<Figure size 1440x576 with 1 Axes>"
      ]
     },
     "metadata": {
      "needs_background": "light"
     },
     "output_type": "display_data"
    }
   ],
   "source": [
    "#Looking at the distribution of ratings\n",
    "percent_val = 100 * amazon_df['overall'].value_counts()/len(amazon_df)\n",
    "percent_val.plot.bar(figsize=(20,8), color=['royalblue','cornflowerblue','silver','silver','silver'])\n",
    "plt.ylabel('Rating length', fontsize=20)\n",
    "plt.title('Rating Distribution',fontsize=25)\n",
    "plt.xticks(rotation=0,horizontalalignment=\"center\")\n",
    "plt.xlabel('Score', fontsize=20)\n",
    "plt.show()"
   ]
  },
  {
   "cell_type": "markdown",
   "metadata": {},
   "source": [
    "The distribution is quite skewed, with a giant number of 5s and very few 3s, 2s, and 1s."
   ]
  },
  {
   "cell_type": "markdown",
   "metadata": {},
   "source": [
    "### Text visualization using word clouds (*word clouds* )"
   ]
  },
  {
   "cell_type": "code",
   "execution_count": 9,
   "metadata": {},
   "outputs": [
    {
     "data": {
      "image/png": "[encoded data removed]",
      "text/plain": [
       "<Figure size 936x720 with 1 Axes>"
      ]
     },
     "metadata": {
      "needs_background": "light"
     },
     "output_type": "display_data"
    }
   ],
   "source": [
    "'''The word cloud will show the distribution of the text. \n",
    "Words that appear bigger have a high frequency in the review \n",
    "and words that appear small have low frequency in the review.'''\n",
    "\n",
    "\n",
    "word_cloud_text = ''.join(amazon_df['reviewText'])\n",
    "\n",
    "wordcloud = WordCloud(max_font_size=100, # maximum font size for the largest word\n",
    "                      max_words=100, # the maximum number of words\n",
    "                      background_color=\"black\", # background color for the word cloud image\n",
    "                      scale = 10, # scaling between computation and drawing\n",
    "                      width=800, # width of the canvas\n",
    "                      height=400 # height of the canvas\n",
    "                     ).generate(word_cloud_text)\n",
    "\n",
    "plt.figure(figsize=(13,10))\n",
    "plt.imshow(wordcloud, \n",
    "           interpolation=\"bilinear\") # makes the image smoothly\n",
    "plt.axis(\"off\")\n",
    "plt.show()\n",
    "\n"
   ]
  },
  {
   "cell_type": "markdown",
   "metadata": {},
   "source": [
    "The wordcloud indicates that many of the reviews talk about music-related things - guitar, sound, tuner, play, pedal. There are more positive words like good, easy, great. The only negative word that appears is \"problem\".  This word cloud correlates with the rating distributions as there were more positive rating and positive words."
   ]
  },
  {
   "cell_type": "markdown",
   "metadata": {},
   "source": [
    "### Standardizing the ratings for sentiment analysis "
   ]
  },
  {
   "cell_type": "code",
   "execution_count": 10,
   "metadata": {},
   "outputs": [
    {
     "data": {
      "text/plain": [
       "1    9015\n",
       "0     467\n",
       "Name: sentiment_rating, dtype: int64"
      ]
     },
     "execution_count": 10,
     "metadata": {},
     "output_type": "execute_result"
    }
   ],
   "source": [
    "'''\n",
    "In the following code, the ratings are be converted to binary values \n",
    "and used as the target values.\n",
    "\n",
    "Ratings of 4 or 5 will be mapped to 1 and will be related to positive reviews.\n",
    "Ratings of 1 or 2 will get mapped to 0 and will be related to negative reviews.\n",
    "Ratings of 3 will get removed since they will represent neutral reviews.\n",
    "'''\n",
    "amazon_df['sentiment_rating'] = np.where(amazon_df.overall > 3,1,0)\n",
    "\n",
    "#Removing neutral reviews \n",
    "amazon_df = amazon_df[amazon_df.overall != 3]\n",
    "\n",
    "#Printing the counts of each class\n",
    "amazon_df['sentiment_rating'].value_counts()"
   ]
  },
  {
   "cell_type": "code",
   "execution_count": 11,
   "metadata": {},
   "outputs": [
    {
     "data": {
      "image/png": "[encoded data removed]",
      "text/plain": [
       "<Figure size 936x576 with 1 Axes>"
      ]
     },
     "metadata": {
      "needs_background": "light"
     },
     "output_type": "display_data"
    }
   ],
   "source": [
    "amazon_df.sentiment_rating.value_counts().plot.bar(figsize=(13,8),color=['royalblue','cornflowerblue'])\n",
    "plt.ylabel('Rating length', fontsize = 20)\n",
    "plt.xticks(rotation=0,horizontalalignment=\"center\")\n",
    "plt.xlabel('Sentiment', fontsize=20)\n",
    "\n",
    "plt.show()"
   ]
  },
  {
   "cell_type": "markdown",
   "metadata": {},
   "source": [
    "The following observation is a class imbalance as there is a huge difference between the two classes. 9022 of the reviews are positive, and 467 of the reviews are negative. The problem which this, is that models will predict high accuracy on the positive sentiment, but fail to capture the negative sentiment as there are not enough examples. To deal with this problem, first, the following dataset would be used on the machine learning models and a Reciever Operator Characteristic (ROC) would be used to evaluate how well the models have classified the negative reviews. The if the models can not classify the negative reviews accuraly, oversample would be used to duplicate examples from the negative class in the training dataset before fitting a model. This can balance the class distribution but does not provide any additional information to the model.If oversample does not solve the accuray , undersample would be used."
   ]
  },
  {
   "cell_type": "markdown",
   "metadata": {},
   "source": [
    "## Pre-processing"
   ]
  },
  {
   "cell_type": "markdown",
   "metadata": {},
   "source": [
    "Text-processing is crucial before building a machine learning model. Text-processing includes:\n",
    "1. Converting words to lower/upper case\n",
    "2. Removing special characters\n",
    "3. Removing stopwords and high/low-frequency words\n",
    "4. Stemming/lemmatization\n",
    "\n",
    "### 1. Converting words to lower/upper case"
   ]
  },
  {
   "cell_type": "code",
   "execution_count": 12,
   "metadata": {},
   "outputs": [],
   "source": [
    "#converting all of the words into a consistent case format - lowercase\n",
    "amazon_df['reviews_text_new'] = amazon_df['reviewText'].str.lower()"
   ]
  },
  {
   "cell_type": "code",
   "execution_count": 13,
   "metadata": {},
   "outputs": [
    {
     "name": "stdout",
     "output_type": "stream",
     "text": [
      "Number of unique tokens then:  33790\n",
      "Number of unique tokens now:  29310\n"
     ]
    }
   ],
   "source": [
    "#reviews not converted to lowercase\n",
    "token_lists = [word_tokenize(each) for each in amazon_df['reviewText']]\n",
    "tokens = [item for sublist in token_lists for item in sublist]\n",
    "print(\"Number of unique tokens then: \",len(set(tokens)))\n",
    "\n",
    "#reviews converted to lowercase\n",
    "token_lists_lower = [word_tokenize(each) for each in amazon_df['reviews_text_new']]\n",
    "tokens_lower = [item for sublist in token_lists_lower for item in sublist]\n",
    "print(\"Number of unique tokens now: \",len(set(tokens_lower)))"
   ]
  },
  {
   "cell_type": "markdown",
   "metadata": {},
   "source": [
    "The number of tokens has gone down by 13% just from normalizing the corpus."
   ]
  },
  {
   "cell_type": "markdown",
   "metadata": {},
   "source": [
    "### 2. Removing special characters\n",
    "\n",
    "People often use special characters (emojis, exclamation marks, commas, symbols )to express their emotions. The presence of exclamation marks clearly indicates something about the underlying sentiment, so it's not going to be removed, but non-emotionally charged punctuation such as commas, periods, and semicolons is safe to remove."
   ]
  },
  {
   "cell_type": "code",
   "execution_count": 14,
   "metadata": {},
   "outputs": [
    {
     "data": {
      "text/plain": [
       "{'!',\n",
       " '\"',\n",
       " '#',\n",
       " '$',\n",
       " '%',\n",
       " '&',\n",
       " \"'\",\n",
       " '(',\n",
       " ')',\n",
       " '*',\n",
       " '+',\n",
       " ',',\n",
       " '-',\n",
       " '.',\n",
       " '/',\n",
       " ':',\n",
       " ';',\n",
       " '=',\n",
       " '>',\n",
       " '?',\n",
       " '@',\n",
       " '[',\n",
       " '\\\\',\n",
       " ']',\n",
       " '^',\n",
       " '_',\n",
       " '`',\n",
       " '{',\n",
       " '|',\n",
       " '}',\n",
       " '~'}"
      ]
     },
     "execution_count": 14,
     "metadata": {},
     "output_type": "execute_result"
    }
   ],
   "source": [
    "# Selecting non alpha numeric charactes that are not spaces\n",
    "spl_chars = amazon_df['reviews_text_new'].apply(lambda review: \n",
    "            [char for char in list(review) if not char.isalnum() and char != ' '])\n",
    "\n",
    "## Getting list into a single list\n",
    "flat_list = [item for sublist in spl_chars for item in sublist]\n",
    "\n",
    "##  gives a list unique special characters that are presented on the reviews\n",
    "set(flat_list)"
   ]
  },
  {
   "cell_type": "code",
   "execution_count": 15,
   "metadata": {},
   "outputs": [],
   "source": [
    "'''\n",
    "Removing the special characters from the reviews by applying the regular expression \n",
    "[^A-Za-z0-9 ]. The regular expression accepts upper case character, lower case characters,  number characters only.  Other type or characters are removed.\n",
    "'''\n",
    "review_backup = amazon_df['reviews_text_new'].copy()\n",
    "amazon_df['reviews_text_new'] = amazon_df['reviews_text_new'].str.replace(r'[^A-Za-z0-9 ]+', ' ')"
   ]
  },
  {
   "cell_type": "code",
   "execution_count": 16,
   "metadata": {},
   "outputs": [
    {
     "name": "stdout",
     "output_type": "stream",
     "text": [
      "- Old Review -\n",
      "i have used monster cables for years, and with good reason. the lifetime warranty is worth the price alone. simple fact: cables break, but getting to replace them at no cost is where it's at.\n",
      "\n",
      "- New Review -\n",
      "i have used monster cables for years  and with good reason  the lifetime warranty is worth the price alone  simple fact  cables break  but getting to replace them at no cost is where it s at \n"
     ]
    }
   ],
   "source": [
    "#Seeing how the reviews change after removing special characters:\n",
    "print(\"- Old Review -\")\n",
    "print(review_backup.values[6])\n",
    "print(\"\\n- New Review -\")\n",
    "print(amazon_df['reviews_text_new'][6])"
   ]
  },
  {
   "cell_type": "markdown",
   "metadata": {},
   "source": [
    "From the statement above, we can see that the semicolumn, comma and full stop has been remove and replace with space."
   ]
  },
  {
   "cell_type": "markdown",
   "metadata": {},
   "source": [
    "### 3. Stopwords and high/low frequency words\n",
    "Stopwords such as \"but, maybe, also\" appears very frequently in the English language. Stopwords do not give any additional meaning to the reviews, so the following code would remove it."
   ]
  },
  {
   "cell_type": "code",
   "execution_count": 17,
   "metadata": {},
   "outputs": [
    {
     "name": "stdout",
     "output_type": "stream",
     "text": [
      "Available languages for NLTK v.3.4.5: \n",
      "['arabic', 'azerbaijani', 'danish', 'dutch', 'english', 'finnish', 'french', 'german', 'greek', 'hungarian', 'indonesian', 'italian', 'kazakh', 'nepali', 'norwegian', 'portuguese', 'romanian', 'russian', 'slovene', 'spanish', 'swedish', 'tajik', 'turkish']\n"
     ]
    }
   ],
   "source": [
    "from nltk.corpus import stopwords\n",
    "# Reviewing what languages are available in the nltk package\n",
    "print('Available languages for NLTK v.3.4.5: ')\n",
    "print(stopwords.fileids())"
   ]
  },
  {
   "cell_type": "code",
   "execution_count": 18,
   "metadata": {},
   "outputs": [
    {
     "data": {
      "text/plain": [
       "['i',\n",
       " 'me',\n",
       " 'my',\n",
       " 'myself',\n",
       " 'we',\n",
       " 'our',\n",
       " 'ours',\n",
       " 'ourselves',\n",
       " 'you',\n",
       " \"you're\",\n",
       " \"you've\",\n",
       " \"you'll\",\n",
       " \"you'd\",\n",
       " 'your',\n",
       " 'yours',\n",
       " 'yourself',\n",
       " 'yourselves',\n",
       " 'he',\n",
       " 'him',\n",
       " 'his',\n",
       " 'himself',\n",
       " 'she',\n",
       " \"she's\",\n",
       " 'her',\n",
       " 'hers',\n",
       " 'herself',\n",
       " 'it',\n",
       " \"it's\",\n",
       " 'its',\n",
       " 'itself',\n",
       " 'they',\n",
       " 'them',\n",
       " 'their',\n",
       " 'theirs',\n",
       " 'themselves',\n",
       " 'what',\n",
       " 'which',\n",
       " 'who',\n",
       " 'whom',\n",
       " 'this',\n",
       " 'that',\n",
       " \"that'll\",\n",
       " 'these',\n",
       " 'those',\n",
       " 'am',\n",
       " 'is',\n",
       " 'are',\n",
       " 'was',\n",
       " 'were',\n",
       " 'be',\n",
       " 'been',\n",
       " 'being',\n",
       " 'have',\n",
       " 'has',\n",
       " 'had',\n",
       " 'having',\n",
       " 'do',\n",
       " 'does',\n",
       " 'did',\n",
       " 'doing',\n",
       " 'a',\n",
       " 'an',\n",
       " 'the',\n",
       " 'and',\n",
       " 'but',\n",
       " 'if',\n",
       " 'or',\n",
       " 'because',\n",
       " 'as',\n",
       " 'until',\n",
       " 'while',\n",
       " 'of',\n",
       " 'at',\n",
       " 'by',\n",
       " 'for',\n",
       " 'with',\n",
       " 'about',\n",
       " 'against',\n",
       " 'between',\n",
       " 'into',\n",
       " 'through',\n",
       " 'during',\n",
       " 'before',\n",
       " 'after',\n",
       " 'above',\n",
       " 'below',\n",
       " 'to',\n",
       " 'from',\n",
       " 'up',\n",
       " 'down',\n",
       " 'in',\n",
       " 'out',\n",
       " 'on',\n",
       " 'off',\n",
       " 'over',\n",
       " 'under',\n",
       " 'again',\n",
       " 'further',\n",
       " 'then',\n",
       " 'once',\n",
       " 'here',\n",
       " 'there',\n",
       " 'when',\n",
       " 'where',\n",
       " 'why',\n",
       " 'how',\n",
       " 'all',\n",
       " 'any',\n",
       " 'both',\n",
       " 'each',\n",
       " 'few',\n",
       " 'more',\n",
       " 'most',\n",
       " 'other',\n",
       " 'some',\n",
       " 'such',\n",
       " 'no',\n",
       " 'nor',\n",
       " 'not',\n",
       " 'only',\n",
       " 'own',\n",
       " 'same',\n",
       " 'so',\n",
       " 'than',\n",
       " 'too',\n",
       " 'very',\n",
       " 's',\n",
       " 't',\n",
       " 'can',\n",
       " 'will',\n",
       " 'just',\n",
       " 'don',\n",
       " \"don't\",\n",
       " 'should',\n",
       " \"should've\",\n",
       " 'now',\n",
       " 'd',\n",
       " 'll',\n",
       " 'm',\n",
       " 'o',\n",
       " 're',\n",
       " 've',\n",
       " 'y',\n",
       " 'ain',\n",
       " 'aren',\n",
       " \"aren't\",\n",
       " 'couldn',\n",
       " \"couldn't\",\n",
       " 'didn',\n",
       " \"didn't\",\n",
       " 'doesn',\n",
       " \"doesn't\",\n",
       " 'hadn',\n",
       " \"hadn't\",\n",
       " 'hasn',\n",
       " \"hasn't\",\n",
       " 'haven',\n",
       " \"haven't\",\n",
       " 'isn',\n",
       " \"isn't\",\n",
       " 'ma',\n",
       " 'mightn',\n",
       " \"mightn't\",\n",
       " 'mustn',\n",
       " \"mustn't\",\n",
       " 'needn',\n",
       " \"needn't\",\n",
       " 'shan',\n",
       " \"shan't\",\n",
       " 'shouldn',\n",
       " \"shouldn't\",\n",
       " 'wasn',\n",
       " \"wasn't\",\n",
       " 'weren',\n",
       " \"weren't\",\n",
       " 'won',\n",
       " \"won't\",\n",
       " 'wouldn',\n",
       " \"wouldn't\"]"
      ]
     },
     "execution_count": 18,
     "metadata": {},
     "output_type": "execute_result"
    }
   ],
   "source": [
    "#Reviewing the list of English stopwords\n",
    "noise_words = []\n",
    "eng_stop_words = stopwords.words('english')\n",
    "eng_stop_words"
   ]
  },
  {
   "cell_type": "code",
   "execution_count": 19,
   "metadata": {},
   "outputs": [
    {
     "name": "stdout",
     "output_type": "stream",
     "text": [
      "-- Original Sentence --\n",
      " not much to write about here  but it does exactly what it s supposed to  filters out the pop sounds  now my recordings are much more crisp  it is one of the lowest prices pop filters on amazon so might as well buy it  they honestly work the same despite their pricing \n",
      "\n",
      "-- Stopwords in the sentence --\n",
      " ['not', 'to', 'about', 'here', 'but', 'it', 'does', 'what', 'it', 's', 'to', 'out', 'the', 'now', 'my', 'are', 'more', 'it', 'is', 'of', 'the', 'on', 'so', 'as', 'it', 'they', 'the', 'same', 'their']\n",
      "\n",
      "-- Non-stopwords in the sentence --\n",
      " ['much', 'write', 'exactly', 'supposed', 'filters', 'pop', 'sounds', 'recordings', 'much', 'crisp', 'one', 'lowest', 'prices', 'pop', 'filters', 'amazon', 'might', 'well', 'buy', 'honestly', 'work', 'despite', 'pricing']\n"
     ]
    }
   ],
   "source": [
    "#Testing the stopword in the review\n",
    "stop_words = set(eng_stop_words)\n",
    "without_stop_words = []\n",
    "stopword = []\n",
    "sentence = amazon_df['reviews_text_new'][0]\n",
    "words = nltk.word_tokenize(sentence)\n",
    "\n",
    "for word in words:\n",
    "    if word in stop_words:\n",
    "        stopword.append(word)\n",
    "    else:\n",
    "        without_stop_words.append(word)\n",
    "\n",
    "print('-- Original Sentence --\\n', sentence)\n",
    "print('\\n-- Stopwords in the sentence --\\n', stopword)\n",
    "print('\\n-- Non-stopwords in the sentence --\\n', without_stop_words)"
   ]
  },
  {
   "cell_type": "code",
   "execution_count": 20,
   "metadata": {},
   "outputs": [
    {
     "data": {
      "text/html": [
       "<div>\n",
       "<style scoped>\n",
       "    .dataframe tbody tr th:only-of-type {\n",
       "        vertical-align: middle;\n",
       "    }\n",
       "\n",
       "    .dataframe tbody tr th {\n",
       "        vertical-align: top;\n",
       "    }\n",
       "\n",
       "    .dataframe thead th {\n",
       "        text-align: right;\n",
       "    }\n",
       "</style>\n",
       "<table border=\"1\" class=\"dataframe\">\n",
       "  <thead>\n",
       "    <tr style=\"text-align: right;\">\n",
       "      <th></th>\n",
       "      <th>reviews_text_new</th>\n",
       "      <th>reviews_text_nonstop</th>\n",
       "    </tr>\n",
       "  </thead>\n",
       "  <tbody>\n",
       "    <tr>\n",
       "      <td>0</td>\n",
       "      <td>not much to write about here  but it does exac...</td>\n",
       "      <td>[much, write, exactly, supposed, filters, pop,...</td>\n",
       "    </tr>\n",
       "    <tr>\n",
       "      <td>1</td>\n",
       "      <td>the product does exactly as it should and is q...</td>\n",
       "      <td>[product, exactly, quite, affordable, realized...</td>\n",
       "    </tr>\n",
       "    <tr>\n",
       "      <td>2</td>\n",
       "      <td>the primary job of this device is to block the...</td>\n",
       "      <td>[primary, job, device, block, breath, would, o...</td>\n",
       "    </tr>\n",
       "    <tr>\n",
       "      <td>3</td>\n",
       "      <td>nice windscreen protects my mxl mic and preven...</td>\n",
       "      <td>[nice, windscreen, protects, mxl, mic, prevent...</td>\n",
       "    </tr>\n",
       "    <tr>\n",
       "      <td>4</td>\n",
       "      <td>this pop filter is great  it looks and perform...</td>\n",
       "      <td>[pop, filter, great, looks, performs, like, st...</td>\n",
       "    </tr>\n",
       "    <tr>\n",
       "      <td>...</td>\n",
       "      <td>...</td>\n",
       "      <td>...</td>\n",
       "    </tr>\n",
       "    <tr>\n",
       "      <td>10256</td>\n",
       "      <td>great  just as expected   thank to all</td>\n",
       "      <td>[great, expected, thank]</td>\n",
       "    </tr>\n",
       "    <tr>\n",
       "      <td>10257</td>\n",
       "      <td>i ve been thinking about trying the nanoweb st...</td>\n",
       "      <td>[thinking, trying, nanoweb, strings, bit, put,...</td>\n",
       "    </tr>\n",
       "    <tr>\n",
       "      <td>10258</td>\n",
       "      <td>i have tried coated strings in the past   incl...</td>\n",
       "      <td>[tried, coated, strings, past, including, elix...</td>\n",
       "    </tr>\n",
       "    <tr>\n",
       "      <td>10259</td>\n",
       "      <td>well  made by elixir and developed with taylor...</td>\n",
       "      <td>[well, made, elixir, developed, taylor, guitar...</td>\n",
       "    </tr>\n",
       "    <tr>\n",
       "      <td>10260</td>\n",
       "      <td>these strings are really quite good  but i wou...</td>\n",
       "      <td>[strings, really, quite, good, call, perfect, ...</td>\n",
       "    </tr>\n",
       "  </tbody>\n",
       "</table>\n",
       "<p>9482 rows × 2 columns</p>\n",
       "</div>"
      ],
      "text/plain": [
       "                                        reviews_text_new  \\\n",
       "0      not much to write about here  but it does exac...   \n",
       "1      the product does exactly as it should and is q...   \n",
       "2      the primary job of this device is to block the...   \n",
       "3      nice windscreen protects my mxl mic and preven...   \n",
       "4      this pop filter is great  it looks and perform...   \n",
       "...                                                  ...   \n",
       "10256            great  just as expected   thank to all    \n",
       "10257  i ve been thinking about trying the nanoweb st...   \n",
       "10258  i have tried coated strings in the past   incl...   \n",
       "10259  well  made by elixir and developed with taylor...   \n",
       "10260  these strings are really quite good  but i wou...   \n",
       "\n",
       "                                    reviews_text_nonstop  \n",
       "0      [much, write, exactly, supposed, filters, pop,...  \n",
       "1      [product, exactly, quite, affordable, realized...  \n",
       "2      [primary, job, device, block, breath, would, o...  \n",
       "3      [nice, windscreen, protects, mxl, mic, prevent...  \n",
       "4      [pop, filter, great, looks, performs, like, st...  \n",
       "...                                                  ...  \n",
       "10256                           [great, expected, thank]  \n",
       "10257  [thinking, trying, nanoweb, strings, bit, put,...  \n",
       "10258  [tried, coated, strings, past, including, elix...  \n",
       "10259  [well, made, elixir, developed, taylor, guitar...  \n",
       "10260  [strings, really, quite, good, call, perfect, ...  \n",
       "\n",
       "[9482 rows x 2 columns]"
      ]
     },
     "execution_count": 20,
     "metadata": {},
     "output_type": "execute_result"
    }
   ],
   "source": [
    "#Removing stopwords from the reviews\n",
    "\n",
    "def stopwords_removal(stop_words, sentence):\n",
    "    return [word for word in nltk.word_tokenize(sentence) if word not in stop_words]\n",
    "\n",
    "amazon_df['reviews_text_nonstop'] = amazon_df['reviews_text_new'].apply(lambda row: stopwords_removal(stop_words, row))\n",
    "amazon_df[['reviews_text_new','reviews_text_nonstop']]"
   ]
  },
  {
   "cell_type": "markdown",
   "metadata": {},
   "source": [
    "### 4. Stemming & lemmatization\n",
    "**Stemming** works by cutting off the end or the beginning of the word, taking into account a list of common prefixes and suffixes that can be found.\n",
    "\n",
    "**Lemmatization** takes into consideration the morphological analysis of the words. So lemmatization considers the grammar of the word and tries to find the root word instead of just getting to the root word by brute force methods."
   ]
  },
  {
   "cell_type": "code",
   "execution_count": 21,
   "metadata": {},
   "outputs": [
    {
     "name": "stderr",
     "output_type": "stream",
     "text": [
      "[nltk_data] Downloading package wordnet to\n",
      "[nltk_data]     /Users/goundosidibe/nltk_data...\n",
      "[nltk_data]   Package wordnet is already up-to-date!\n"
     ]
    }
   ],
   "source": [
    "from nltk.stem import PorterStemmer, LancasterStemmer \n",
    "from nltk.stem import WordNetLemmatizer\n",
    "nltk.download('wordnet')\n",
    "from nltk.corpus import wordnet\n",
    "\n",
    "porter = PorterStemmer()\n",
    "lancaster = LancasterStemmer()\n",
    "lemmatizer = WordNetLemmatizer()"
   ]
  },
  {
   "cell_type": "code",
   "execution_count": 22,
   "metadata": {},
   "outputs": [
    {
     "data": {
      "text/html": [
       "<div>\n",
       "<style scoped>\n",
       "    .dataframe tbody tr th:only-of-type {\n",
       "        vertical-align: middle;\n",
       "    }\n",
       "\n",
       "    .dataframe tbody tr th {\n",
       "        vertical-align: top;\n",
       "    }\n",
       "\n",
       "    .dataframe thead th {\n",
       "        text-align: right;\n",
       "    }\n",
       "</style>\n",
       "<table border=\"1\" class=\"dataframe\">\n",
       "  <thead>\n",
       "    <tr style=\"text-align: right;\">\n",
       "      <th></th>\n",
       "      <th>reviewText</th>\n",
       "      <th>overall</th>\n",
       "      <th>sentiment_rating</th>\n",
       "    </tr>\n",
       "  </thead>\n",
       "  <tbody>\n",
       "    <tr>\n",
       "      <td>0</td>\n",
       "      <td>Not much to write about here, but it does exac...</td>\n",
       "      <td>5.0</td>\n",
       "      <td>1</td>\n",
       "    </tr>\n",
       "    <tr>\n",
       "      <td>1</td>\n",
       "      <td>The product does exactly as it should and is q...</td>\n",
       "      <td>5.0</td>\n",
       "      <td>1</td>\n",
       "    </tr>\n",
       "    <tr>\n",
       "      <td>2</td>\n",
       "      <td>The primary job of this device is to block the...</td>\n",
       "      <td>5.0</td>\n",
       "      <td>1</td>\n",
       "    </tr>\n",
       "    <tr>\n",
       "      <td>3</td>\n",
       "      <td>Nice windscreen protects my MXL mic and preven...</td>\n",
       "      <td>5.0</td>\n",
       "      <td>1</td>\n",
       "    </tr>\n",
       "    <tr>\n",
       "      <td>4</td>\n",
       "      <td>This pop filter is great. It looks and perform...</td>\n",
       "      <td>5.0</td>\n",
       "      <td>1</td>\n",
       "    </tr>\n",
       "  </tbody>\n",
       "</table>\n",
       "</div>"
      ],
      "text/plain": [
       "                                          reviewText  overall  \\\n",
       "0  Not much to write about here, but it does exac...      5.0   \n",
       "1  The product does exactly as it should and is q...      5.0   \n",
       "2  The primary job of this device is to block the...      5.0   \n",
       "3  Nice windscreen protects my MXL mic and preven...      5.0   \n",
       "4  This pop filter is great. It looks and perform...      5.0   \n",
       "\n",
       "   sentiment_rating  \n",
       "0                 1  \n",
       "1                 1  \n",
       "2                 1  \n",
       "3                 1  \n",
       "4                 1  "
      ]
     },
     "execution_count": 22,
     "metadata": {},
     "output_type": "execute_result"
    }
   ],
   "source": [
    "#Selecting the columns that are going to e used to train the model\n",
    "amazon_df[['reviewText','overall','sentiment_rating']].head(5)"
   ]
  },
  {
   "cell_type": "markdown",
   "metadata": {},
   "source": [
    "### Bag-of-words and n-grams"
   ]
  },
  {
   "cell_type": "code",
   "execution_count": 23,
   "metadata": {},
   "outputs": [
    {
     "data": {
      "text/html": [
       "<div>\n",
       "<style scoped>\n",
       "    .dataframe tbody tr th:only-of-type {\n",
       "        vertical-align: middle;\n",
       "    }\n",
       "\n",
       "    .dataframe tbody tr th {\n",
       "        vertical-align: top;\n",
       "    }\n",
       "\n",
       "    .dataframe thead th {\n",
       "        text-align: right;\n",
       "    }\n",
       "</style>\n",
       "<table border=\"1\" class=\"dataframe\">\n",
       "  <thead>\n",
       "    <tr style=\"text-align: right;\">\n",
       "      <th></th>\n",
       "      <th>00</th>\n",
       "      <th>000</th>\n",
       "      <th>000s</th>\n",
       "      <th>001</th>\n",
       "      <th>003</th>\n",
       "      <th>004</th>\n",
       "      <th>0045</th>\n",
       "      <th>007</th>\n",
       "      <th>008</th>\n",
       "      <th>008ex</th>\n",
       "      <th>...</th>\n",
       "      <th>zombie</th>\n",
       "      <th>zone</th>\n",
       "      <th>zoom</th>\n",
       "      <th>zooms</th>\n",
       "      <th>zt</th>\n",
       "      <th>zune</th>\n",
       "      <th>zvex</th>\n",
       "      <th>zylgian</th>\n",
       "      <th>zz</th>\n",
       "      <th>zzounds</th>\n",
       "    </tr>\n",
       "  </thead>\n",
       "  <tbody>\n",
       "    <tr>\n",
       "      <td>0</td>\n",
       "      <td>0.0</td>\n",
       "      <td>0.0</td>\n",
       "      <td>0.0</td>\n",
       "      <td>0.0</td>\n",
       "      <td>0.0</td>\n",
       "      <td>0.0</td>\n",
       "      <td>0.0</td>\n",
       "      <td>0.0</td>\n",
       "      <td>0.0</td>\n",
       "      <td>0.0</td>\n",
       "      <td>...</td>\n",
       "      <td>0.0</td>\n",
       "      <td>0.0</td>\n",
       "      <td>0.0</td>\n",
       "      <td>0.0</td>\n",
       "      <td>0.0</td>\n",
       "      <td>0.0</td>\n",
       "      <td>0.0</td>\n",
       "      <td>0.0</td>\n",
       "      <td>0.0</td>\n",
       "      <td>0.0</td>\n",
       "    </tr>\n",
       "    <tr>\n",
       "      <td>1</td>\n",
       "      <td>0.0</td>\n",
       "      <td>0.0</td>\n",
       "      <td>0.0</td>\n",
       "      <td>0.0</td>\n",
       "      <td>0.0</td>\n",
       "      <td>0.0</td>\n",
       "      <td>0.0</td>\n",
       "      <td>0.0</td>\n",
       "      <td>0.0</td>\n",
       "      <td>0.0</td>\n",
       "      <td>...</td>\n",
       "      <td>0.0</td>\n",
       "      <td>0.0</td>\n",
       "      <td>0.0</td>\n",
       "      <td>0.0</td>\n",
       "      <td>0.0</td>\n",
       "      <td>0.0</td>\n",
       "      <td>0.0</td>\n",
       "      <td>0.0</td>\n",
       "      <td>0.0</td>\n",
       "      <td>0.0</td>\n",
       "    </tr>\n",
       "    <tr>\n",
       "      <td>2</td>\n",
       "      <td>0.0</td>\n",
       "      <td>0.0</td>\n",
       "      <td>0.0</td>\n",
       "      <td>0.0</td>\n",
       "      <td>0.0</td>\n",
       "      <td>0.0</td>\n",
       "      <td>0.0</td>\n",
       "      <td>0.0</td>\n",
       "      <td>0.0</td>\n",
       "      <td>0.0</td>\n",
       "      <td>...</td>\n",
       "      <td>0.0</td>\n",
       "      <td>0.0</td>\n",
       "      <td>0.0</td>\n",
       "      <td>0.0</td>\n",
       "      <td>0.0</td>\n",
       "      <td>0.0</td>\n",
       "      <td>0.0</td>\n",
       "      <td>0.0</td>\n",
       "      <td>0.0</td>\n",
       "      <td>0.0</td>\n",
       "    </tr>\n",
       "    <tr>\n",
       "      <td>3</td>\n",
       "      <td>0.0</td>\n",
       "      <td>0.0</td>\n",
       "      <td>0.0</td>\n",
       "      <td>0.0</td>\n",
       "      <td>0.0</td>\n",
       "      <td>0.0</td>\n",
       "      <td>0.0</td>\n",
       "      <td>0.0</td>\n",
       "      <td>0.0</td>\n",
       "      <td>0.0</td>\n",
       "      <td>...</td>\n",
       "      <td>0.0</td>\n",
       "      <td>0.0</td>\n",
       "      <td>0.0</td>\n",
       "      <td>0.0</td>\n",
       "      <td>0.0</td>\n",
       "      <td>0.0</td>\n",
       "      <td>0.0</td>\n",
       "      <td>0.0</td>\n",
       "      <td>0.0</td>\n",
       "      <td>0.0</td>\n",
       "    </tr>\n",
       "    <tr>\n",
       "      <td>4</td>\n",
       "      <td>0.0</td>\n",
       "      <td>0.0</td>\n",
       "      <td>0.0</td>\n",
       "      <td>0.0</td>\n",
       "      <td>0.0</td>\n",
       "      <td>0.0</td>\n",
       "      <td>0.0</td>\n",
       "      <td>0.0</td>\n",
       "      <td>0.0</td>\n",
       "      <td>0.0</td>\n",
       "      <td>...</td>\n",
       "      <td>0.0</td>\n",
       "      <td>0.0</td>\n",
       "      <td>0.0</td>\n",
       "      <td>0.0</td>\n",
       "      <td>0.0</td>\n",
       "      <td>0.0</td>\n",
       "      <td>0.0</td>\n",
       "      <td>0.0</td>\n",
       "      <td>0.0</td>\n",
       "      <td>0.0</td>\n",
       "    </tr>\n",
       "  </tbody>\n",
       "</table>\n",
       "<p>5 rows × 19710 columns</p>\n",
       "</div>"
      ],
      "text/plain": [
       "    00  000  000s  001  003  004  0045  007  008  008ex  ...  zombie  zone  \\\n",
       "0  0.0  0.0   0.0  0.0  0.0  0.0   0.0  0.0  0.0    0.0  ...     0.0   0.0   \n",
       "1  0.0  0.0   0.0  0.0  0.0  0.0   0.0  0.0  0.0    0.0  ...     0.0   0.0   \n",
       "2  0.0  0.0   0.0  0.0  0.0  0.0   0.0  0.0  0.0    0.0  ...     0.0   0.0   \n",
       "3  0.0  0.0   0.0  0.0  0.0  0.0   0.0  0.0  0.0    0.0  ...     0.0   0.0   \n",
       "4  0.0  0.0   0.0  0.0  0.0  0.0   0.0  0.0  0.0    0.0  ...     0.0   0.0   \n",
       "\n",
       "   zoom  zooms   zt  zune  zvex  zylgian   zz  zzounds  \n",
       "0   0.0    0.0  0.0   0.0   0.0      0.0  0.0      0.0  \n",
       "1   0.0    0.0  0.0   0.0   0.0      0.0  0.0      0.0  \n",
       "2   0.0    0.0  0.0   0.0   0.0      0.0  0.0      0.0  \n",
       "3   0.0    0.0  0.0   0.0   0.0      0.0  0.0      0.0  \n",
       "4   0.0    0.0  0.0   0.0   0.0      0.0  0.0      0.0  \n",
       "\n",
       "[5 rows x 19710 columns]"
      ]
     },
     "execution_count": 23,
     "metadata": {},
     "output_type": "execute_result"
    }
   ],
   "source": [
    "'''The following code uses the bag of words model to convert text documents \n",
    "into corresponding numerical features.'''\n",
    "\n",
    "from nltk import ngrams\n",
    "\n",
    "#using bag of words to analyse the frequency of a word appearing in the text.\n",
    "# from sklearn.feature_extraction.text import CountVectorizer\n",
    "\n",
    "vec = TfidfVectorizer()\n",
    "X = vec.fit_transform(amazon_df['reviews_text_new'])\n",
    "df = pd.DataFrame(X.toarray(), columns = vec.get_feature_names())\n",
    "df.head()"
   ]
  },
  {
   "cell_type": "code",
   "execution_count": 24,
   "metadata": {},
   "outputs": [],
   "source": [
    "#Creating a python object of the class CountVectorizer\n",
    "\n",
    "bow_counts = TfidfVectorizer(tokenizer= word_tokenize,\n",
    "                             ngram_range=(1,4))\n",
    "\n",
    "bow_data = bow_counts.fit_transform(amazon_df.reviews_text_new)"
   ]
  },
  {
   "cell_type": "code",
   "execution_count": 25,
   "metadata": {},
   "outputs": [
    {
     "data": {
      "text/plain": [
       "<9482x1581188 sparse matrix of type '<class 'numpy.float64'>'\n",
       "\twith 3084484 stored elements in Compressed Sparse Row format>"
      ]
     },
     "execution_count": 25,
     "metadata": {},
     "output_type": "execute_result"
    }
   ],
   "source": [
    "bow_data"
   ]
  },
  {
   "cell_type": "markdown",
   "metadata": {},
   "source": [
    "A parse matrix of 9489 observations (number of rows of the reviews_text_new series) has been built, and 1581188 columns corresponding to the features extracted by means of the representation of the 1-gram count of the user reviews."
   ]
  },
  {
   "cell_type": "markdown",
   "metadata": {},
   "source": [
    "### Train-Test Split"
   ]
  },
  {
   "cell_type": "code",
   "execution_count": 26,
   "metadata": {},
   "outputs": [],
   "source": [
    "X_train, X_test, y_train, y_test = train_test_split(bow_data, # Features\n",
    "                                amazon_df['sentiment_rating'], # Target variable\n",
    "                                test_size = 0.2, # 20% test size\n",
    "                                random_state = 0) # random state for replication purposes"
   ]
  },
  {
   "cell_type": "code",
   "execution_count": 27,
   "metadata": {},
   "outputs": [
    {
     "data": {
      "text/plain": [
       "1    0.950692\n",
       "0    0.049308\n",
       "Name: sentiment_rating, dtype: float64"
      ]
     },
     "execution_count": 27,
     "metadata": {},
     "output_type": "execute_result"
    }
   ],
   "source": [
    "y_train.value_counts()/y_train.shape[0]"
   ]
  },
  {
   "cell_type": "markdown",
   "metadata": {},
   "source": [
    "The training dataset contains only 4% of negative review which is not enough samples for the model to understand how negative reviews are structure."
   ]
  },
  {
   "cell_type": "markdown",
   "metadata": {},
   "source": [
    "### Training the models (LogisticRegression,Naive Bayes, SVM)"
   ]
  },
  {
   "cell_type": "code",
   "execution_count": 28,
   "metadata": {},
   "outputs": [],
   "source": [
    "# logistic regression\n",
    "model1 = LogisticRegression()\n",
    "# Naive bayes\n",
    "model2 = MultinomialNB()\n",
    "# SVM\n",
    "model3 = SVC(probability=True)\n",
    "\n",
    "# fit model\n",
    "model1.fit(X_train, y_train)\n",
    "model2.fit(X_train, y_train)\n",
    "model3.fit(X_train, y_train)\n",
    "\n",
    "# predict probabilities\n",
    "pred_prob1 = model1.predict_proba(X_test)\n",
    "pred_prob2 = model2.predict_proba(X_test)\n",
    "pred_prob3 = model3.predict_proba(X_test)"
   ]
  },
  {
   "cell_type": "code",
   "execution_count": 29,
   "metadata": {},
   "outputs": [
    {
     "name": "stdout",
     "output_type": "stream",
     "text": [
      "0.8810647783897194 0.5335157237202871 0.9099134539732494\n"
     ]
    }
   ],
   "source": [
    "from sklearn.metrics import roc_auc_score\n",
    "\n",
    "# auc scores\n",
    "auc_score1 = roc_auc_score(y_test, pred_prob1[:,1])\n",
    "auc_score2 = roc_auc_score(y_test, pred_prob2[:,1])\n",
    "auc_score3 = roc_auc_score(y_test, pred_prob3[:,1])\n",
    "\n",
    "print(auc_score1, auc_score2, auc_score3 )"
   ]
  },
  {
   "cell_type": "code",
   "execution_count": 30,
   "metadata": {},
   "outputs": [],
   "source": [
    "from sklearn.metrics import roc_curve\n",
    "\n",
    "# roc curve for models\n",
    "fpr1, tpr1, thresh1 = roc_curve(y_test, pred_prob1[:,1], pos_label=1)\n",
    "fpr2, tpr2, thresh2 = roc_curve(y_test, pred_prob2[:,1], pos_label=1)\n",
    "fpr3, tpr3, thresh3 = roc_curve(y_test, pred_prob3[:,1], pos_label=1)\n",
    "\n",
    "# roc curve for tpr = fpr \n",
    "random_probs = [0 for i in range(len(y_test))]\n",
    "p_fpr, p_tpr, _ = roc_curve(y_test, random_probs, pos_label=1)"
   ]
  },
  {
   "cell_type": "code",
   "execution_count": 31,
   "metadata": {},
   "outputs": [
    {
     "data": {
      "image/png": "[encoded data removed]",
      "text/plain": [
       "<Figure size 432x288 with 1 Axes>"
      ]
     },
     "metadata": {
      "needs_background": "light"
     },
     "output_type": "display_data"
    }
   ],
   "source": [
    "\n",
    "# calculate scores\n",
    "\n",
    "'''\n",
    "The y-axis shows the True Positive rates, which shows positive reviews that correctly \n",
    "predicted as positive  by the model\n",
    "\n",
    "The x-axis shows the False Positive rates, which shows the proportion of negative \n",
    "reviews that were correctly classified as negative by the model.\n",
    "\n",
    "The red diagonal lines show where True positive = False positive rate. Any point in this \n",
    "line means that the proportion of positive reviews is the same as the proportion of \n",
    "negative review.\n",
    "\n",
    "\n",
    "'''\n",
    "\n",
    "# plot roc curves\n",
    "plt.plot(fpr1, tpr1, linestyle='--',color='orange', label='Logistic Regression')\n",
    "plt.plot(fpr2, tpr2, linestyle='--',color='green', label='Naive Bayes')\n",
    "plt.plot(fpr3, tpr3, linestyle='--',color='blue', label='SVM')\n",
    "plt.plot(p_fpr, p_tpr, linestyle='--', color='red')\n",
    "# title\n",
    "plt.title('ROC curve')\n",
    "# x label\n",
    "plt.xlabel('False Positive Rate')\n",
    "# y label\n",
    "plt.ylabel('True Positive rate')\n",
    "\n",
    "plt.legend(loc='best')\n",
    "plt.savefig('ROC',dpi=300)\n",
    "plt.show();"
   ]
  },
  {
   "cell_type": "markdown",
   "metadata": {},
   "source": [
    "All the models gave an accuracy of 95%.\n",
    "From the ROC metric, we can see that SVM performs better at classifying the reviews compare to the other models.  Surprising logistic regression performed better than Naive Bayes."
   ]
  },
  {
   "cell_type": "markdown",
   "metadata": {},
   "source": [
    "To evaluate the effectiveness of the models, I created a confusion matrix to summarise the classification."
   ]
  },
  {
   "cell_type": "markdown",
   "metadata": {},
   "source": [
    "#### Logistic Regression Classification Report"
   ]
  },
  {
   "cell_type": "code",
   "execution_count": 32,
   "metadata": {
    "scrolled": false
   },
   "outputs": [
    {
     "name": "stdout",
     "output_type": "stream",
     "text": [
      "Logistic Regression Classification Report\n",
      "accuracy : 0.9509752240379546 \n",
      "\n",
      "              precision    recall  f1-score   support\n",
      "\n",
      "           0       0.00      0.00      0.00        93\n",
      "           1       0.95      1.00      0.97      1804\n",
      "\n",
      "    accuracy                           0.95      1897\n",
      "   macro avg       0.48      0.50      0.49      1897\n",
      "weighted avg       0.90      0.95      0.93      1897\n",
      " \n",
      "\n"
     ]
    },
    {
     "data": {
      "text/plain": [
       "<matplotlib.axes._subplots.AxesSubplot at 0x7fddd5442ed0>"
      ]
     },
     "execution_count": 32,
     "metadata": {},
     "output_type": "execute_result"
    },
    {
     "data": {
      "image/png": "[encoded data removed]",
      "text/plain": [
       "<Figure size 432x288 with 2 Axes>"
      ]
     },
     "metadata": {
      "needs_background": "light"
     },
     "output_type": "display_data"
    }
   ],
   "source": [
    "# Logistic Regression Classification Report\n",
    "y_pred = model1.predict(X_test)\n",
    "print('Logistic Regression Classification Report')\n",
    "print('accuracy :',accuracy_score(y_test,y_pred),\"\\n\")\n",
    "print(classification_report(y_test,y_pred),\"\\n\")\n",
    "\n",
    "\n",
    "#Get the confusion matrix\n",
    "cf_matrix = confusion_matrix(y_test, y_pred)\n",
    "sns.heatmap(cf_matrix,cmap=\"Blues\", annot=True, fmt='g')\n"
   ]
  },
  {
   "cell_type": "markdown",
   "metadata": {},
   "source": [
    "#### Naive Baye Classification Report"
   ]
  },
  {
   "cell_type": "code",
   "execution_count": 33,
   "metadata": {
    "scrolled": false
   },
   "outputs": [
    {
     "name": "stdout",
     "output_type": "stream",
     "text": [
      "Naive Baye Classification Report\n",
      "accuracy : 0.9509752240379546 \n",
      "\n",
      "              precision    recall  f1-score   support\n",
      "\n",
      "           0       0.00      0.00      0.00        93\n",
      "           1       0.95      1.00      0.97      1804\n",
      "\n",
      "    accuracy                           0.95      1897\n",
      "   macro avg       0.48      0.50      0.49      1897\n",
      "weighted avg       0.90      0.95      0.93      1897\n",
      " \n",
      "\n"
     ]
    },
    {
     "data": {
      "text/plain": [
       "<matplotlib.axes._subplots.AxesSubplot at 0x7fdd86490990>"
      ]
     },
     "execution_count": 33,
     "metadata": {},
     "output_type": "execute_result"
    },
    {
     "data": {
      "image/png": "[encoded data removed]",
      "text/plain": [
       "<Figure size 432x288 with 2 Axes>"
      ]
     },
     "metadata": {
      "needs_background": "light"
     },
     "output_type": "display_data"
    }
   ],
   "source": [
    "# Naive Baye Classification Report\n",
    "y_pred = model2.predict(X_test)\n",
    "print('Naive Baye Classification Report')\n",
    "print('accuracy :',accuracy_score(y_test,y_pred),\"\\n\")\n",
    "print(classification_report(y_test,y_pred),\"\\n\")\n",
    "# confusion_matrix = confusion_matrix(y_test, y_pred)\n",
    "# print(\"Naive Baye confusion matrix:\",\"\\n\",confusion_matrix)\n",
    "\n",
    "#Get the confusion matrix\n",
    "cf_matrix = confusion_matrix(y_test, y_pred)\n",
    "sns.heatmap(cf_matrix,cmap=\"Blues\", annot=True, fmt='g')"
   ]
  },
  {
   "cell_type": "code",
   "execution_count": 34,
   "metadata": {},
   "outputs": [
    {
     "name": "stdout",
     "output_type": "stream",
     "text": [
      "SVM Classification Report\n",
      "accuracy : 0.9509752240379546 \n",
      "\n",
      "              precision    recall  f1-score   support\n",
      "\n",
      "           0       0.00      0.00      0.00        93\n",
      "           1       0.95      1.00      0.97      1804\n",
      "\n",
      "    accuracy                           0.95      1897\n",
      "   macro avg       0.48      0.50      0.49      1897\n",
      "weighted avg       0.90      0.95      0.93      1897\n",
      " \n",
      "\n"
     ]
    },
    {
     "data": {
      "text/plain": [
       "<matplotlib.axes._subplots.AxesSubplot at 0x7fdd8598a3d0>"
      ]
     },
     "execution_count": 34,
     "metadata": {},
     "output_type": "execute_result"
    },
    {
     "data": {
      "image/png": "[encoded data removed]",
      "text/plain": [
       "<Figure size 432x288 with 2 Axes>"
      ]
     },
     "metadata": {
      "needs_background": "light"
     },
     "output_type": "display_data"
    }
   ],
   "source": [
    "# SVM Classification Report\n",
    "from sklearn.metrics import confusion_matrix\n",
    "y_pred = model3.predict(X_test)\n",
    "print('SVM Classification Report')\n",
    "print('accuracy :',accuracy_score(y_test,y_pred),\"\\n\")\n",
    "print(classification_report(y_test,y_pred),\"\\n\")\n",
    "# confusion_matrix = confusion_matrix(y_test, y_pred)\n",
    "# print(\"SVM confusion matrix:\",\"\\n\",confusion_matrix)\n",
    "\n",
    "#Get the confusion matrix\n",
    "cf_matrix = confusion_matrix(y_test, y_pred)\n",
    "sns.heatmap(cf_matrix,cmap=\"Blues\", annot=True, fmt='g')"
   ]
  },
  {
   "cell_type": "markdown",
   "metadata": {},
   "source": [
    "To tackle this problem, the dataset needs to be resampled as it is imbalanced. First, the over-sampling method will be applied to the imbalanced dataset which consists of duplicating the minority class samples ( negative class). If any of the models get high accuracy on the over-sampled dataset, then that would be considered the best model. If the models did not perform well on the over-sampled dataset, under-sampling will be applied which consist of removing samples from the majority class (positive class) and make it equal to the minority class( negative ) class."
   ]
  },
  {
   "cell_type": "markdown",
   "metadata": {},
   "source": [
    "### Oversampling  the imbalance data"
   ]
  },
  {
   "cell_type": "markdown",
   "metadata": {},
   "source": [
    "Over-sampling add some duplicates the minority class(negative class)."
   ]
  },
  {
   "cell_type": "code",
   "execution_count": 35,
   "metadata": {},
   "outputs": [
    {
     "name": "stdout",
     "output_type": "stream",
     "text": [
      "Counter({1: 7211, 0: 7211})\n"
     ]
    }
   ],
   "source": [
    "from imblearn.over_sampling import RandomOverSampler\n",
    "from imblearn.under_sampling import RandomUnderSampler\n",
    "from collections import Counter\n",
    "\n",
    "# instantiating the random over sampler \n",
    "ros = RandomOverSampler()\n",
    "# resampling X_train, y_train\n",
    "X_ros, y_ros = ros.fit_resample(X_train, y_train)\n",
    "# new class distribution \n",
    "print(Counter(y_ros))"
   ]
  },
  {
   "cell_type": "code",
   "execution_count": 36,
   "metadata": {},
   "outputs": [],
   "source": [
    "# logistic regression\n",
    "model1 = LogisticRegression()\n",
    "# Naive bayes\n",
    "model2 = MultinomialNB()\n",
    "# svm\n",
    "model3 = SVC(probability=True)\n",
    "\n",
    "# fit model\n",
    "model1.fit(X_ros, y_ros)\n",
    "model2.fit(X_ros, y_ros)\n",
    "model3.fit(X_ros, y_ros)\n",
    "\n",
    "# predict probabilities\n",
    "pred_prob1 = model1.predict_proba(X_test)\n",
    "pred_prob2 = model2.predict_proba(X_test)\n",
    "pred_prob3 = model3.predict_proba(X_test)"
   ]
  },
  {
   "cell_type": "code",
   "execution_count": 37,
   "metadata": {},
   "outputs": [
    {
     "name": "stdout",
     "output_type": "stream",
     "text": [
      "0.9020635147700451 0.9116598717306821 0.9121426698137949\n"
     ]
    }
   ],
   "source": [
    "# from sklearn.metrics import roc_auc_score\n",
    "# auc scores\n",
    "auc_score1 = roc_auc_score(y_test, pred_prob1[:,1])\n",
    "auc_score2 = roc_auc_score(y_test, pred_prob2[:,1])\n",
    "auc_score3 = roc_auc_score(y_test, pred_prob3[:,1])\n",
    "\n",
    "print(auc_score1, auc_score2, auc_score3)"
   ]
  },
  {
   "cell_type": "code",
   "execution_count": 38,
   "metadata": {},
   "outputs": [],
   "source": [
    "# roc curve for models\n",
    "fpr1, tpr1, thresh1 = roc_curve(y_test, pred_prob1[:,1], pos_label=1)\n",
    "fpr2, tpr2, thresh2 = roc_curve(y_test, pred_prob2[:,1], pos_label=1)\n",
    "fpr3, tpr3, thresh3 = roc_curve(y_test, pred_prob3[:,1], pos_label=1)\n",
    "\n",
    "# roc curve for tpr = fpr \n",
    "random_probs = [0 for i in range(len(y_test))]\n",
    "p_fpr, p_tpr, _ = roc_curve(y_test, random_probs, pos_label=1)"
   ]
  },
  {
   "cell_type": "code",
   "execution_count": 39,
   "metadata": {},
   "outputs": [
    {
     "data": {
      "image/png": "[encoded data removed]",
      "text/plain": [
       "<Figure size 432x288 with 1 Axes>"
      ]
     },
     "metadata": {
      "needs_background": "light"
     },
     "output_type": "display_data"
    }
   ],
   "source": [
    "\n",
    "# plot roc curves\n",
    "plt.plot(fpr1, tpr1, linestyle='--',color='orange', label='Logistic Regression')\n",
    "plt.plot(fpr2, tpr2, linestyle='--',color='green', label='Naive Bayes')\n",
    "plt.plot(fpr3, tpr3, linestyle='--',color='blue', label='SVM')\n",
    "plt.plot(p_fpr, p_tpr, linestyle='--', color='red')\n",
    "# title\n",
    "plt.title('ROC curve')\n",
    "# x label\n",
    "plt.xlabel('False Positive Rate')\n",
    "# y label\n",
    "plt.ylabel('True Positive rate')\n",
    "\n",
    "plt.legend(loc='best')\n",
    "plt.savefig('ROC',dpi=300)\n",
    "plt.show();"
   ]
  },
  {
   "cell_type": "markdown",
   "metadata": {},
   "source": [
    "After over-sampling the dataset all the models' accuracy is around  90%. It difficult to know which model produces the best result, therefore I used a confusion matrix to identify which model has classified the positive and negative reviews accurately."
   ]
  },
  {
   "cell_type": "code",
   "execution_count": 41,
   "metadata": {},
   "outputs": [
    {
     "name": "stdout",
     "output_type": "stream",
     "text": [
      "Logistic Regression Classification Report\n"
     ]
    },
    {
     "data": {
      "text/plain": [
       "<matplotlib.axes._subplots.AxesSubplot at 0x7fdd87e75f50>"
      ]
     },
     "execution_count": 41,
     "metadata": {},
     "output_type": "execute_result"
    },
    {
     "data": {
      "image/png": "[encoded data removed]",
      "text/plain": [
       "<Figure size 432x288 with 2 Axes>"
      ]
     },
     "metadata": {
      "needs_background": "light"
     },
     "output_type": "display_data"
    }
   ],
   "source": [
    "from sklearn.metrics import confusion_matrix\n",
    "# Logistic Regression Classification Report\n",
    "y_pred = model1.predict(X_test)\n",
    "print('Logistic Regression Classification Report')\n",
    "\n",
    "#Get the confusion matrix\n",
    "cf_matrix = confusion_matrix(y_test, y_pred)\n",
    "sns.heatmap(cf_matrix,cmap=\"OrRd\", annot=True, fmt='g')\n"
   ]
  },
  {
   "cell_type": "markdown",
   "metadata": {},
   "source": [
    "Logistic regression performed poorly on the dataset as negative reviews were incorrectly classified. It seems that over-sampled dataset did not affect logistic regression accuracy as it still can't predict negative reviews.  There is a chance that logistic regression sees negative reviews as noise data and ignores it."
   ]
  },
  {
   "cell_type": "code",
   "execution_count": 42,
   "metadata": {},
   "outputs": [
    {
     "name": "stdout",
     "output_type": "stream",
     "text": [
      "Naive Baye Classification Report\n"
     ]
    },
    {
     "data": {
      "text/plain": [
       "<matplotlib.axes._subplots.AxesSubplot at 0x7fdd9292a350>"
      ]
     },
     "execution_count": 42,
     "metadata": {},
     "output_type": "execute_result"
    },
    {
     "data": {
      "image/png": "[encoded data removed]",
      "text/plain": [
       "<Figure size 432x288 with 2 Axes>"
      ]
     },
     "metadata": {
      "needs_background": "light"
     },
     "output_type": "display_data"
    }
   ],
   "source": [
    "# Naive Baye Classification Report\n",
    "y_pred = model2.predict(X_test)\n",
    "print('Naive Baye Classification Report')\n",
    "\n",
    "#Get the confusion matrix\n",
    "cf_matrix = confusion_matrix(y_test, y_pred)\n",
    "sns.heatmap(cf_matrix,cmap=\"OrRd\", annot=True, fmt='g')"
   ]
  },
  {
   "cell_type": "markdown",
   "metadata": {},
   "source": [
    "Naive Baye is able to predict 66 negative samples accurately, however, it didn't perform very well on the positive samples as 139 positive reviews were incorrectly classified. Naive Baye performed very well on the over-sampled dataset but is not the best classifier as it still makes mistakes."
   ]
  },
  {
   "cell_type": "code",
   "execution_count": 43,
   "metadata": {},
   "outputs": [
    {
     "name": "stdout",
     "output_type": "stream",
     "text": [
      "Naive Baye Classification Report\n"
     ]
    },
    {
     "data": {
      "text/plain": [
       "<matplotlib.axes._subplots.AxesSubplot at 0x7fdd91a16710>"
      ]
     },
     "execution_count": 43,
     "metadata": {},
     "output_type": "execute_result"
    },
    {
     "data": {
      "image/png": "[encoded data removed]",
      "text/plain": [
       "<Figure size 432x288 with 2 Axes>"
      ]
     },
     "metadata": {
      "needs_background": "light"
     },
     "output_type": "display_data"
    }
   ],
   "source": [
    "# SVM Classification Report\n",
    "y_pred = model3.predict(X_test)\n",
    "print('Naive Baye Classification Report')\n",
    "\n",
    "#Get the confusion matrix\n",
    "cf_matrix = confusion_matrix(y_test, y_pred)\n",
    "sns.heatmap(cf_matrix,cmap=\"OrRd\", annot=True, fmt='g')"
   ]
  },
  {
   "cell_type": "markdown",
   "metadata": {},
   "source": [
    "SVM performed poorly on the over-sample dataset. Its accuracy is very similar to logistic regression as it incorrectly classifies all the negative samples, but correctly classified almost all the positive samples."
   ]
  },
  {
   "cell_type": "markdown",
   "metadata": {},
   "source": [
    "Overall the oversampled data helps the Naive Baye model to predict negative reviews better but it was not effective to the Logistic regression and SVM  as the accuracies were similar to the imbalanced dataset. \n"
   ]
  },
  {
   "cell_type": "markdown",
   "metadata": {},
   "source": [
    "### Undersampling imbalance data\n",
    " under-sampling removes some observations observations of the majority class (positive).This is done until the majority and minority class is balanced out. Undersampling is consider to be a good choice when the dataset is large."
   ]
  },
  {
   "cell_type": "code",
   "execution_count": 44,
   "metadata": {},
   "outputs": [
    {
     "name": "stdout",
     "output_type": "stream",
     "text": [
      "Counter({0: 374, 1: 374})\n"
     ]
    }
   ],
   "source": [
    "# instantiating the random undersampler\n",
    "rus = RandomUnderSampler() \n",
    "# resampling X, y\n",
    "X_rus, y_rus = rus.fit_resample(X_train, y_train)\n",
    "# new class distribution\n",
    "print(Counter(y_rus))"
   ]
  },
  {
   "cell_type": "code",
   "execution_count": 45,
   "metadata": {},
   "outputs": [],
   "source": [
    "# logistic regression\n",
    "model1 = LogisticRegression()\n",
    "# Naive bayes\n",
    "model2 = MultinomialNB()\n",
    "# svm\n",
    "# Classifier - Algorithm - SVM\n",
    "# fit the training dataset on the classifier\n",
    "model3 = SVC(probability=True)\n",
    "\n",
    "# fit model\n",
    "model1.fit(X_rus, y_rus)\n",
    "model2.fit(X_rus, y_rus)\n",
    "model3.fit(X_rus, y_rus)\n",
    "\n",
    "# predict probabilities\n",
    "pred_prob1 = model1.predict_proba(X_test)\n",
    "pred_prob2 = model2.predict_proba(X_test)\n",
    "pred_prob3 = model3.predict_proba(X_test)"
   ]
  },
  {
   "cell_type": "code",
   "execution_count": 46,
   "metadata": {},
   "outputs": [
    {
     "name": "stdout",
     "output_type": "stream",
     "text": [
      "0.8576162887728583 0.879461411916172 0.8455999809264955\n"
     ]
    }
   ],
   "source": [
    "# auc scores\n",
    "auc_score1 = roc_auc_score(y_test, pred_prob1[:,1])\n",
    "auc_score2 = roc_auc_score(y_test, pred_prob2[:,1])\n",
    "auc_score3 = roc_auc_score(y_test, pred_prob3[:,1])\n",
    "\n",
    "print(auc_score1, auc_score2, auc_score3)\n",
    "\n",
    "\n",
    "# roc curve for models\n",
    "fpr1, tpr1, thresh1 = roc_curve(y_test, pred_prob1[:,1], pos_label=1)\n",
    "fpr2, tpr2, thresh2 = roc_curve(y_test, pred_prob2[:,1], pos_label=1)\n",
    "fpr3, tpr3, thresh3 = roc_curve(y_test, pred_prob3[:,1], pos_label=1)\n",
    "\n",
    "# roc curve for tpr = fpr \n",
    "random_probs = [0 for i in range(len(y_test))]\n",
    "p_fpr, p_tpr, _ = roc_curve(y_test, random_probs, pos_label=1)\n"
   ]
  },
  {
   "cell_type": "code",
   "execution_count": 47,
   "metadata": {},
   "outputs": [
    {
     "data": {
      "image/png": "[encoded data removed]",
      "text/plain": [
       "<Figure size 432x288 with 1 Axes>"
      ]
     },
     "metadata": {
      "needs_background": "light"
     },
     "output_type": "display_data"
    }
   ],
   "source": [
    "# matplotlib\n",
    "# import matplotlib.pyplot as plt\n",
    "# plt.style.use('seaborn')\n",
    "\n",
    "# plot roc curves\n",
    "plt.plot(fpr1, tpr1, linestyle='--',color='orange', label='Logistic Regression')\n",
    "plt.plot(fpr2, tpr2, linestyle='--',color='green', label='Naive Bayes')\n",
    "plt.plot(fpr3, tpr3, linestyle='--',color='BLUE', label='SVM')\n",
    "plt.plot(p_fpr, p_tpr, linestyle='--', color='red')\n",
    "# title\n",
    "plt.title('ROC curve')\n",
    "# x label\n",
    "plt.xlabel('False Positive Rate')\n",
    "# y label\n",
    "plt.ylabel('True Positive rate')\n",
    "\n",
    "plt.legend(loc='best')\n",
    "plt.savefig('ROC',dpi=300)\n",
    "plt.show();"
   ]
  },
  {
   "cell_type": "markdown",
   "metadata": {},
   "source": [
    "From the above observation, it seems like all the models performed well on the under-sample dataset.It difficult to know which model produced the best result, therefore a confusion matrix is used to identify which model has classified the positive and negative reviews accurately."
   ]
  },
  {
   "cell_type": "code",
   "execution_count": 48,
   "metadata": {},
   "outputs": [
    {
     "name": "stdout",
     "output_type": "stream",
     "text": [
      "Logistic Regression Classification Report\n"
     ]
    },
    {
     "data": {
      "text/plain": [
       "<matplotlib.axes._subplots.AxesSubplot at 0x7fdd91a0a110>"
      ]
     },
     "execution_count": 48,
     "metadata": {},
     "output_type": "execute_result"
    },
    {
     "data": {
      "image/png": "[encoded data removed]",
      "text/plain": [
       "<Figure size 432x288 with 2 Axes>"
      ]
     },
     "metadata": {
      "needs_background": "light"
     },
     "output_type": "display_data"
    }
   ],
   "source": [
    "from sklearn.metrics import confusion_matrix\n",
    "# Logistic Regression Classification Report\n",
    "y_pred = model1.predict(X_test)\n",
    "print('Logistic Regression Classification Report')\n",
    "\n",
    "#Get the confusion matrix\n",
    "cf_matrix = confusion_matrix(y_test, y_pred)\n",
    "sns.heatmap(cf_matrix,cmap=\"BuGn\", annot=True, fmt='g')\n"
   ]
  },
  {
   "cell_type": "markdown",
   "metadata": {},
   "source": [
    "The logistic regression is doing better at predicting  negative samples. In this case, we could say that the under-sampled dataset helps the Logistic Regression model to predict the negative reviews better, but it stills make some mistakes."
   ]
  },
  {
   "cell_type": "code",
   "execution_count": 49,
   "metadata": {},
   "outputs": [
    {
     "name": "stdout",
     "output_type": "stream",
     "text": [
      "Naive Baye Classification Report\n"
     ]
    },
    {
     "data": {
      "text/plain": [
       "<matplotlib.axes._subplots.AxesSubplot at 0x7fdd929efd90>"
      ]
     },
     "execution_count": 49,
     "metadata": {},
     "output_type": "execute_result"
    },
    {
     "data": {
      "image/png": "[encoded data removed]",
      "text/plain": [
       "<Figure size 432x288 with 2 Axes>"
      ]
     },
     "metadata": {
      "needs_background": "light"
     },
     "output_type": "display_data"
    }
   ],
   "source": [
    "# Naive Baye Classification Report\n",
    "y_pred = model2.predict(X_test)\n",
    "print('Naive Baye Classification Report')\n",
    "\n",
    "#Get the confusion matrix\n",
    "cf_matrix = confusion_matrix(y_test, y_pred)\n",
    "sns.heatmap(cf_matrix,cmap=\"BuGn\", annot=True, fmt='g')"
   ]
  },
  {
   "cell_type": "markdown",
   "metadata": {},
   "source": [
    "This is the best accuracy. Naive Baye was able to classify most of the positive and negative review accurately. Some samples were classified incorrectly, but it's a minor problem."
   ]
  },
  {
   "cell_type": "code",
   "execution_count": 50,
   "metadata": {},
   "outputs": [
    {
     "name": "stdout",
     "output_type": "stream",
     "text": [
      "Naive Baye Classification Report\n"
     ]
    },
    {
     "data": {
      "text/plain": [
       "<matplotlib.axes._subplots.AxesSubplot at 0x7fdd85e44710>"
      ]
     },
     "execution_count": 50,
     "metadata": {},
     "output_type": "execute_result"
    },
    {
     "data": {
      "image/png": "[encoded data removed]",
      "text/plain": [
       "<Figure size 432x288 with 2 Axes>"
      ]
     },
     "metadata": {
      "needs_background": "light"
     },
     "output_type": "display_data"
    }
   ],
   "source": [
    "# SVM Classification Report\n",
    "y_pred = model3.predict(X_test)\n",
    "print('SVM Report')\n",
    "\n",
    "#Get the confusion matrix\n",
    "cf_matrix = confusion_matrix(y_test, y_pred)\n",
    "sns.heatmap(cf_matrix,cmap=\"BuGn\", annot=True, fmt='g')"
   ]
  },
  {
   "cell_type": "markdown",
   "metadata": {},
   "source": [
    "SVM managed to classified 53 negative samples, but it incorrectly misclassified 40 negative samples, which is the vast amount of the undersampled dataset. SVM also made some incorrect misclassification on the positive reviews, but the majority of the positive samples were classified correctly."
   ]
  },
  {
   "cell_type": "markdown",
   "metadata": {},
   "source": [
    "### Predicting new data with Naive Bayes"
   ]
  },
  {
   "cell_type": "code",
   "execution_count": 51,
   "metadata": {},
   "outputs": [
    {
     "name": "stdout",
     "output_type": "stream",
     "text": [
      "[0]\n"
     ]
    }
   ],
   "source": [
    "sarcasm_sentence= [\"Thanks but no thanks, I'm not willing to pay this monthly sum, far too expensive!.\"]\n",
    "X_test = bow_counts.transform(sarcasm_sentence)\n",
    "predict_s = model2.predict(X_test)\n",
    "print(predict_s)"
   ]
  },
  {
   "cell_type": "code",
   "execution_count": 52,
   "metadata": {},
   "outputs": [
    {
     "name": "stdout",
     "output_type": "stream",
     "text": [
      "[1]\n"
     ]
    }
   ],
   "source": [
    "positive_sentence = [\"i have bought several of the vitality canned dog food products and have found them all to be of good quality the product looks more like a stew than a processed meat and it smells better my <OOV> is finicky and she appreciates this product better than most\"]\n",
    "X_test = bow_counts.transform(positive_sentence)\n",
    "predict_p = model2.predict(X_test)\n",
    "print(predict_p)"
   ]
  },
  {
   "cell_type": "code",
   "execution_count": 53,
   "metadata": {},
   "outputs": [
    {
     "name": "stdout",
     "output_type": "stream",
     "text": [
      "[0]\n"
     ]
    }
   ],
   "source": [
    "negative_sentence = [\"Don't subscribe to Audible books they are still taking money from my account YEARS after finishing with them. The fraud squad from my bank are forcing them to return money they take every month!\"]\n",
    "X_test = bow_counts.transform(negative_sentence)\n",
    "predict_n = model2.predict(X_test)\n",
    "print(predict_n)"
   ]
  },
  {
   "cell_type": "markdown",
   "metadata": {},
   "source": [
    "# Top 15 words in  positive reviews\n",
    "To validate our model and interpret its predictions, it is important to look at which words it is using to make decisions. Plotting word importance is simple with Bag of Words and Logistic Regression, since we can just extract and rank the coefficients that the model used for its prediction"
   ]
  },
  {
   "cell_type": "code",
   "execution_count": 58,
   "metadata": {},
   "outputs": [
    {
     "data": {
      "text/html": [
       "<div>\n",
       "<style scoped>\n",
       "    .dataframe tbody tr th:only-of-type {\n",
       "        vertical-align: middle;\n",
       "    }\n",
       "\n",
       "    .dataframe tbody tr th {\n",
       "        vertical-align: top;\n",
       "    }\n",
       "\n",
       "    .dataframe thead th {\n",
       "        text-align: right;\n",
       "    }\n",
       "</style>\n",
       "<table border=\"1\" class=\"dataframe\">\n",
       "  <thead>\n",
       "    <tr style=\"text-align: right;\">\n",
       "      <th></th>\n",
       "      <th>words</th>\n",
       "      <th>weights</th>\n",
       "    </tr>\n",
       "  </thead>\n",
       "  <tbody>\n",
       "    <tr>\n",
       "      <td>0</td>\n",
       "      <td>0</td>\n",
       "      <td>-14.277315</td>\n",
       "    </tr>\n",
       "    <tr>\n",
       "      <td>1038657</td>\n",
       "      <td>quality and a nice</td>\n",
       "      <td>-14.277315</td>\n",
       "    </tr>\n",
       "    <tr>\n",
       "      <td>1038656</td>\n",
       "      <td>quality and a great</td>\n",
       "      <td>-14.277315</td>\n",
       "    </tr>\n",
       "    <tr>\n",
       "      <td>1038655</td>\n",
       "      <td>quality and a good</td>\n",
       "      <td>-14.277315</td>\n",
       "    </tr>\n",
       "    <tr>\n",
       "      <td>1038654</td>\n",
       "      <td>quality and a</td>\n",
       "      <td>-14.277315</td>\n",
       "    </tr>\n",
       "    <tr>\n",
       "      <td>1038652</td>\n",
       "      <td>quality an very robust</td>\n",
       "      <td>-14.277315</td>\n",
       "    </tr>\n",
       "    <tr>\n",
       "      <td>1038651</td>\n",
       "      <td>quality an very</td>\n",
       "      <td>-14.277315</td>\n",
       "    </tr>\n",
       "    <tr>\n",
       "      <td>1038650</td>\n",
       "      <td>quality an</td>\n",
       "      <td>-14.277315</td>\n",
       "    </tr>\n",
       "    <tr>\n",
       "      <td>1038649</td>\n",
       "      <td>quality amps like marshals</td>\n",
       "      <td>-14.277315</td>\n",
       "    </tr>\n",
       "    <tr>\n",
       "      <td>1038648</td>\n",
       "      <td>quality amps like</td>\n",
       "      <td>-14.277315</td>\n",
       "    </tr>\n",
       "    <tr>\n",
       "      <td>1038647</td>\n",
       "      <td>quality amps</td>\n",
       "      <td>-14.277315</td>\n",
       "    </tr>\n",
       "    <tr>\n",
       "      <td>1038646</td>\n",
       "      <td>quality amplification to musicians</td>\n",
       "      <td>-14.277315</td>\n",
       "    </tr>\n",
       "    <tr>\n",
       "      <td>1038645</td>\n",
       "      <td>quality amplification to</td>\n",
       "      <td>-14.277315</td>\n",
       "    </tr>\n",
       "    <tr>\n",
       "      <td>1038644</td>\n",
       "      <td>quality amplification</td>\n",
       "      <td>-14.277315</td>\n",
       "    </tr>\n",
       "    <tr>\n",
       "      <td>1038643</td>\n",
       "      <td>quality amp with tons</td>\n",
       "      <td>-14.277315</td>\n",
       "    </tr>\n",
       "  </tbody>\n",
       "</table>\n",
       "</div>"
      ],
      "text/plain": [
       "                                      words    weights\n",
       "0                                         0 -14.277315\n",
       "1038657                  quality and a nice -14.277315\n",
       "1038656                 quality and a great -14.277315\n",
       "1038655                  quality and a good -14.277315\n",
       "1038654                       quality and a -14.277315\n",
       "1038652              quality an very robust -14.277315\n",
       "1038651                     quality an very -14.277315\n",
       "1038650                          quality an -14.277315\n",
       "1038649          quality amps like marshals -14.277315\n",
       "1038648                   quality amps like -14.277315\n",
       "1038647                        quality amps -14.277315\n",
       "1038646  quality amplification to musicians -14.277315\n",
       "1038645            quality amplification to -14.277315\n",
       "1038644               quality amplification -14.277315\n",
       "1038643               quality amp with tons -14.277315"
      ]
     },
     "execution_count": 58,
     "metadata": {},
     "output_type": "execute_result"
    }
   ],
   "source": [
    "l_weights = pd.DataFrame(list(zip(bow_counts.get_feature_names(), # gets all the n-gram feature names\n",
    "                        model2.coef_[0])), # get the logistic regression coefficients\n",
    "                          columns= ['words','weights']).sort_values(['weights'], ascending = True) # defining the colunm names\n",
    "\n",
    "\n",
    "\n",
    "l_weights.head(15)"
   ]
  },
  {
   "cell_type": "markdown",
   "metadata": {},
   "source": [
    "## Top 15 words in negative reviews"
   ]
  },
  {
   "cell_type": "code",
   "execution_count": 59,
   "metadata": {},
   "outputs": [
    {
     "data": {
      "text/html": [
       "<div>\n",
       "<style scoped>\n",
       "    .dataframe tbody tr th:only-of-type {\n",
       "        vertical-align: middle;\n",
       "    }\n",
       "\n",
       "    .dataframe tbody tr th {\n",
       "        vertical-align: top;\n",
       "    }\n",
       "\n",
       "    .dataframe thead th {\n",
       "        text-align: right;\n",
       "    }\n",
       "</style>\n",
       "<table border=\"1\" class=\"dataframe\">\n",
       "  <thead>\n",
       "    <tr style=\"text-align: right;\">\n",
       "      <th></th>\n",
       "      <th>words</th>\n",
       "      <th>weights</th>\n",
       "    </tr>\n",
       "  </thead>\n",
       "  <tbody>\n",
       "    <tr>\n",
       "      <td>1255819</td>\n",
       "      <td>the</td>\n",
       "      <td>-11.772042</td>\n",
       "    </tr>\n",
       "    <tr>\n",
       "      <td>589283</td>\n",
       "      <td>i</td>\n",
       "      <td>-11.950592</td>\n",
       "    </tr>\n",
       "    <tr>\n",
       "      <td>672563</td>\n",
       "      <td>it</td>\n",
       "      <td>-12.111948</td>\n",
       "    </tr>\n",
       "    <tr>\n",
       "      <td>119735</td>\n",
       "      <td>and</td>\n",
       "      <td>-12.114644</td>\n",
       "    </tr>\n",
       "    <tr>\n",
       "      <td>29627</td>\n",
       "      <td>a</td>\n",
       "      <td>-12.123566</td>\n",
       "    </tr>\n",
       "    <tr>\n",
       "      <td>1375508</td>\n",
       "      <td>to</td>\n",
       "      <td>-12.210134</td>\n",
       "    </tr>\n",
       "    <tr>\n",
       "      <td>652658</td>\n",
       "      <td>is</td>\n",
       "      <td>-12.437873</td>\n",
       "    </tr>\n",
       "    <tr>\n",
       "      <td>1348427</td>\n",
       "      <td>this</td>\n",
       "      <td>-12.469820</td>\n",
       "    </tr>\n",
       "    <tr>\n",
       "      <td>883719</td>\n",
       "      <td>of</td>\n",
       "      <td>-12.515660</td>\n",
       "    </tr>\n",
       "    <tr>\n",
       "      <td>459691</td>\n",
       "      <td>for</td>\n",
       "      <td>-12.546127</td>\n",
       "    </tr>\n",
       "    <tr>\n",
       "      <td>1563223</td>\n",
       "      <td>you</td>\n",
       "      <td>-12.607446</td>\n",
       "    </tr>\n",
       "    <tr>\n",
       "      <td>827940</td>\n",
       "      <td>my</td>\n",
       "      <td>-12.681268</td>\n",
       "    </tr>\n",
       "    <tr>\n",
       "      <td>624866</td>\n",
       "      <td>in</td>\n",
       "      <td>-12.765166</td>\n",
       "    </tr>\n",
       "    <tr>\n",
       "      <td>909692</td>\n",
       "      <td>on</td>\n",
       "      <td>-12.774014</td>\n",
       "    </tr>\n",
       "    <tr>\n",
       "      <td>1529140</td>\n",
       "      <td>with</td>\n",
       "      <td>-12.811330</td>\n",
       "    </tr>\n",
       "  </tbody>\n",
       "</table>\n",
       "</div>"
      ],
      "text/plain": [
       "        words    weights\n",
       "1255819   the -11.772042\n",
       "589283      i -11.950592\n",
       "672563     it -12.111948\n",
       "119735    and -12.114644\n",
       "29627       a -12.123566\n",
       "1375508    to -12.210134\n",
       "652658     is -12.437873\n",
       "1348427  this -12.469820\n",
       "883719     of -12.515660\n",
       "459691    for -12.546127\n",
       "1563223   you -12.607446\n",
       "827940     my -12.681268\n",
       "624866     in -12.765166\n",
       "909692     on -12.774014\n",
       "1529140  with -12.811330"
      ]
     },
     "execution_count": 59,
     "metadata": {},
     "output_type": "execute_result"
    }
   ],
   "source": [
    "lr_weights = pd.DataFrame(list(zip(bow_counts.get_feature_names(), # ge tall the n-gram feature names\n",
    "                                   model2.coef_[0])), # get the Naive baye coefficients\n",
    "                          columns= ['words','weights']) # defining the colunm names\n",
    "\n",
    "# # top-15 more important features for negative reviews\n",
    "top =lr_weights.sort_values(['weights'], ascending = False) # top-15 more important features for positive reviews\n",
    "top.head(15)"
   ]
  },
  {
   "cell_type": "markdown",
   "metadata": {},
   "source": [
    "## Conclusion\n",
    "\n",
    "The machine learning models by default assumed that the dataset was balanced and gave an accuracy of 95% on the training. When the metrics (ROC and confusion matrix) was used to evaluate the model's performance, it was discovered that all the models fail to predict the negative samples and the accuracy score was misleading. The dataset had high imbalance classes which the models always predicted the most common class without performing any analysis of the features and it will have a high accuracy rate, obviously not the correct one. To tackle this problem I oversampled the imbalanced dataset which produced an equal ratio of data to each class. Logistic Regression and SVM performed poorly on the oversampled dataset as it incorrectly classified most of the negative samples, but correctly classified all the positive samples. There is a chance that logistic regression and SVM see negative reviews as noise data and ignores them or because negative data were duplicated it does not learn anything new. Naive Baye classified 70% of the negative samples correctly but it did some misclassification on the positive samples. Overall the oversampled data helps the Naive Baye model to predict negative reviews better, but it could be better. \n",
    "I then tried to undersample the dataset, in the hope I would get better results with the models.\n",
    "Logistic Regression and SVM did better at predicting the negative samples. In this case, we could say that the under-sampled dataset helps the Logistic Regression and SVM  to predict the negative reviews better. Logistic Regression and SVM made misclassification on some positive samples, but it very minor. Naive Baye classified 90% of negative samples correctly which is a huge improvement and classified 60% of positive reviews correctly.  From this observation, I concluded that Naive Baye is the best model for amazon reviews because it produces better accuracy results on the negative samples and it can still classify all the positive samples accurately. I believe that  Naive Baye performed much better than other models because all the data were calculated by the Bayes Theorem and is much faster with its probability calculations. The classifier that was used was Multinomial is with is a good method for any sort of Text classification as it considers the frequency of the word will have better accuracy than just checking for word occurrence.\n",
    "\n",
    "In the background research, authors got better accuracy with SVM when classifying Amazon reviews. What differentiates my results from their projects,  is that I handle the imbalanced data while they ignored it. In my research, I mentioned biased, sarcasm, negation could mislead the model accuracy.I can confirm that the dataset I used to train the models is not biased. This is because the dataset accurately represents the environment is expected to run into and the data was not modified. However, is hard for me to identify if the dataset contains consciously or unconsciously reflecting stereotypes. The chosen model (Naive Baye) can classified sarcasm accurately. I fitted the following model with the following sarcasm sentence \"Thanks but no thanks, I'm not willing to pay this monthly sum, far too expensive! \" and it predicted negative which is the correct label. In the future, I would like to take this project to an advanced level, which is performing multi-sentiment classification.\n",
    "\n",
    "\n",
    "## Future Work \n",
    "\n",
    "In this project, I performed binary classification as the models only classified the reviews into two classes(positive, negative). A definite flaw in this method is that text is either categorise into positive/negative classes when there are so many possible emotions attached to it. In the future, I would like to take this project to an advanced level, which is a multi-sentiment classification that would have the following labels l, happy, anger, hate, disgust.\n"
   ]
  }
 ],
 "metadata": {
  "kernelspec": {
   "display_name": "Python 3",
   "language": "python",
   "name": "python3"
  },
  "language_info": {
   "codemirror_mode": {
    "name": "ipython",
    "version": 3
   },
   "file_extension": ".py",
   "mimetype": "text/x-python",
   "name": "python",
   "nbconvert_exporter": "python",
   "pygments_lexer": "ipython3",
   "version": "3.7.4"
  }
 },
 "nbformat": 4,
 "nbformat_minor": 2
}
