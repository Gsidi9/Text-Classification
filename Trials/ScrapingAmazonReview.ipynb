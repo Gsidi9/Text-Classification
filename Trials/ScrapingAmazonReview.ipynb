{
 "cells": [
  {
   "cell_type": "code",
   "execution_count": 1,
   "metadata": {},
   "outputs": [],
   "source": [
    "\n",
    "import pandas as pd\n",
    "import requests\n",
    "from bs4 import BeautifulSoup"
   ]
  },
  {
   "cell_type": "code",
   "execution_count": 2,
   "metadata": {},
   "outputs": [],
   "source": [
    "\n",
    "pages = [\n",
    "\n",
    "    \"https://www.amazon.co.uk/gp/aw/reviews/B00OPA2XFG/ref=cm_cr_arp_d_paging_btm_next_2?pageNumber=2\",\n",
    "    \"https://www.amazon.co.uk/gp/aw/reviews/B00OPA2XFG/ref=cm_cr_arp_d_paging_btm_next_3?pageNumber=3\",\n",
    "    \"https://www.amazon.co.uk/gp/aw/reviews/B00OPA2XFG/ref=cm_cr_arp_d_paging_btm_next_4?pageNumber=4\",\n",
    "    \"https://www.amazon.co.uk/gp/aw/reviews/B00OPA2XFG/ref=cm_cr_arp_d_paging_btm_next_5?pageNumber=5\",\n",
    "    \"https://www.amazon.co.uk/gp/aw/reviews/B00OPA2XFG/ref=cm_cr_arp_d_paging_btm_next_6?pageNumber=6\",\n",
    "    \"https://www.amazon.co.uk/gp/aw/reviews/B00OPA2XFG/ref=cm_cr_arp_d_paging_btm_next_7?pageNumber=7\",\n",
    "    \"https://www.amazon.co.uk/gp/aw/reviews/B00OPA2XFG/ref=cm_cr_arp_d_paging_btm_next_8?pageNumber=8\",\n",
    "    \"https://www.amazon.co.uk/gp/aw/reviews/B00OPA2XFG/ref=cm_cr_arp_d_paging_btm_next_9?pageNumber=9\",\n",
    "    \"https://www.amazon.co.uk/gp/aw/reviews/B00OPA2XFG/ref=cm_cr_arp_d_paging_btm_next_10?pageNumber=10\",\n",
    "    \"https://www.amazon.co.uk/gp/aw/reviews/B00OPA2XFG/ref=cm_cr_arp_d_paging_btm_next_11?pageNumber=11\",\n",
    "    \"https://www.amazon.co.uk/gp/aw/reviews/B00OPA2XFG/ref=cm_cr_arp_d_paging_btm_next_12?pageNumber=12\",\n",
    "    \"https://www.amazon.co.uk/gp/aw/reviews/B00OPA2XFG/ref=cm_cr_arp_d_paging_btm_next_13?pageNumber=13\",\n",
    "    \"https://www.amazon.co.uk/gp/aw/reviews/B00OPA2XFG/ref=cm_cr_arp_d_paging_btm_next_14?pageNumber=14\",\n",
    "    \"https://www.amazon.co.uk/gp/aw/reviews/B00OPA2XFG/ref=cm_cr_arp_d_paging_btm_next_15?pageNumber=15\",\n",
    "    \"https://www.amazon.co.uk/gp/aw/reviews/B00OPA2XFG/ref=cm_cr_arp_d_paging_btm_next_16?pageNumber=16\",\n",
    "    \"https://www.amazon.co.uk/gp/aw/reviews/B00OPA2XFG/ref=cm_cr_arp_d_paging_btm_next_17?pageNumber=17\",\n",
    "    \"https://www.amazon.co.uk/gp/aw/reviews/B00OPA2XFG/ref=cm_cr_arp_d_paging_btm_next_18?pageNumber=18\",\n",
    "    \"https://www.amazon.co.uk/gp/aw/reviews/B00OPA2XFG/ref=cm_cr_arp_d_paging_btm_next_19?pageNumber=19\",\n",
    "    \"https://www.amazon.co.uk/gp/aw/reviews/B00OPA2XFG/ref=cm_cr_arp_d_paging_btm_next_20?pageNumber=20\",\n",
    "    \"https://www.amazon.co.uk/gp/aw/reviews/B00OPA2XFG/ref=cm_cr_arp_d_paging_btm_next_21?pageNumber=21\",\n",
    "    \"https://www.amazon.co.uk/gp/aw/reviews/B00OPA2XFG/ref=cm_cr_arp_d_paging_btm_next_22?pageNumber=22\"\n",
    "    \"https://www.amazon.co.uk/gp/aw/reviews/B00OPA2XFG/ref=cm_cr_arp_d_paging_btm_next_23?pageNumber=23\",\n",
    "    \"https://www.amazon.co.uk/gp/aw/reviews/B00OPA2XFG/ref=cm_cr_arp_d_paging_btm_next_24?pageNumber=24\",\n",
    "    \"https://www.amazon.co.uk/gp/aw/reviews/B00OPA2XFG/ref=cm_cr_arp_d_paging_btm_next_25?pageNumber=25\",\n",
    "    \"https://www.amazon.co.uk/gp/aw/reviews/B00OPA2XFG/ref=cm_cr_arp_d_paging_btm_next_26?pageNumber=26\",\n",
    "    \"https://www.amazon.co.uk/gp/aw/reviews/B00OPA2XFG/ref=cm_cr_arp_d_paging_btm_next_27?pageNumber=27\",\n",
    "    \"https://www.amazon.co.uk/gp/aw/reviews/B00OPA2XFG/ref=cm_cr_arp_d_paging_btm_next_28?pageNumber=28\",\n",
    "    \"https://www.amazon.co.uk/gp/aw/reviews/B00OPA2XFG/ref=cm_cr_arp_d_paging_btm_next_29?pageNumber=29\",\n",
    "    \"https://www.amazon.co.uk/gp/aw/reviews/B00OPA2XFG/ref=cm_cr_arp_d_paging_btm_next_30?pageNumber=30\",\n",
    "    \"https://www.amazon.co.uk/gp/aw/reviews/B00OPA2XFG/ref=cm_cr_arp_d_paging_btm_next_31?pageNumber=31\",\n",
    "    \"https://www.amazon.co.uk/gp/aw/reviews/B00OPA2XFG/ref=cm_cr_arp_d_paging_btm_next_32?pageNumber=32\",\n",
    "    \"https://www.amazon.co.uk/gp/aw/reviews/B00OPA2XFG/ref=cm_cr_arp_d_paging_btm_next_33?pageNumber=33\",\n",
    "    \"https://www.amazon.co.uk/gp/aw/reviews/B00OPA2XFG/ref=cm_cr_arp_d_paging_btm_next_34?pageNumber=34\",\n",
    "    \"https://www.amazon.co.uk/gp/aw/reviews/B00OPA2XFG/ref=cm_cr_arp_d_paging_btm_next_35?pageNumber=35\",\n",
    "    \"https://www.amazon.co.uk/gp/aw/reviews/B00OPA2XFG/ref=cm_cr_arp_d_paging_btm_next_36?pageNumber=36\",\n",
    "    \"https://www.amazon.co.uk/gp/aw/reviews/B00OPA2XFG/ref=cm_cr_arp_d_paging_btm_next_37?pageNumber=37\",\n",
    "    \"https://www.amazon.co.uk/gp/aw/reviews/B00OPA2XFG/ref=cm_cr_arp_d_paging_btm_next_38?pageNumber=38\",\n",
    "    \"https://www.amazon.co.uk/gp/aw/reviews/B00OPA2XFG/ref=cm_cr_arp_d_paging_btm_next_39?pageNumber=39\",\n",
    "    \"https://www.amazon.co.uk/gp/aw/reviews/B00OPA2XFG/ref=cm_cr_arp_d_paging_btm_next_40?pageNumber=40\",\n",
    "    \"https://www.amazon.co.uk/gp/aw/reviews/B00OPA2XFG/ref=cm_cr_arp_d_paging_btm_next_41?pageNumber=41\",\n",
    "    \"https://www.amazon.co.uk/gp/aw/reviews/B00OPA2XFG/ref=cm_cr_arp_d_paging_btm_next_42?pageNumber=42\",\n",
    "    \"https://www.amazon.co.uk/gp/aw/reviews/B00OPA2XFG/ref=cm_cr_arp_d_paging_btm_next_43?pageNumber=43\",\n",
    "    \"https://www.amazon.co.uk/gp/aw/reviews/B00OPA2XFG/ref=cm_cr_arp_d_paging_btm_next_44?pageNumber=44\",\n",
    "    \"https://www.amazon.co.uk/gp/aw/reviews/B00OPA2XFG/ref=cm_cr_arp_d_paging_btm_next_45?pageNumber=45\",\n",
    "    \"https://www.amazon.co.uk/gp/aw/reviews/B00OPA2XFG/ref=cm_cr_arp_d_paging_btm_next_46?pageNumber=46\",\n",
    "    \"https://www.amazon.co.uk/gp/aw/reviews/B00OPA2XFG/ref=cm_cr_arp_d_paging_btm_next_47?pageNumber=47\",\n",
    "    \"https://www.amazon.co.uk/gp/aw/reviews/B00OPA2XFG/ref=cm_cr_arp_d_paging_btm_next_48?pageNumber=48\",\n",
    "    \"https://www.amazon.co.uk/gp/aw/reviews/B00OPA2XFG/ref=cm_cr_arp_d_paging_btm_next_49?pageNumber=49\",\n",
    "    \"https://www.amazon.co.uk/gp/aw/reviews/B00OPA2XFG/ref=cm_cr_arp_d_paging_btm_next_50?pageNumber=50\",\n",
    "    \"https://www.amazon.co.uk/gp/aw/reviews/B00OPA2XFG/ref=cm_cr_arp_d_paging_btm_next_51?pageNumber=51\",\n",
    "    \"https://www.amazon.co.uk/gp/aw/reviews/B00OPA2XFG/ref=cm_cr_arp_d_paging_btm_next_52?pageNumber=52\",\n",
    "    \"https://www.amazon.co.uk/gp/aw/reviews/B00OPA2XFG/ref=cm_cr_arp_d_paging_btm_next_53?pageNumber=53\",\n",
    "    \"https://www.amazon.co.uk/gp/aw/reviews/B00OPA2XFG/ref=cm_cr_arp_d_paging_btm_next_54?pageNumber=54\",\n",
    "    \"https://www.amazon.co.uk/gp/aw/reviews/B00OPA2XFG/ref=cm_cr_arp_d_paging_btm_next_55?pageNumber=55\",\n",
    "    \"https://www.amazon.co.uk/gp/aw/reviews/B00OPA2XFG/ref=cm_cr_arp_d_paging_btm_next_56?pageNumber=56\",\n",
    "    \"https://www.amazon.co.uk/gp/aw/reviews/B00OPA2XFG/ref=cm_cr_arp_d_paging_btm_next_57?pageNumber=57\",\n",
    "    \"https://www.amazon.co.uk/gp/aw/reviews/B00OPA2XFG/ref=cm_cr_arp_d_paging_btm_next_58?pageNumber=58\",\n",
    "    \"https://www.amazon.co.uk/gp/aw/reviews/B00OPA2XFG/ref=cm_cr_arp_d_paging_btm_next_59?pageNumber=59\",\n",
    "    \"https://www.amazon.co.uk/gp/aw/reviews/B00OPA2XFG/ref=cm_cr_arp_d_paging_btm_next_60?pageNumber=60\",\n",
    "]\n",
    "\n",
    "headers = {\n",
    "    'authority': 'www.amazon.co.uk',\n",
    "    'cache-control': 'max-age=0',\n",
    "    'rtt': '0',\n",
    "    'downlink': '10',\n",
    "    'ect': '4g',\n",
    "    'upgrade-insecure-requests': '1',\n",
    "    'user-agent': 'Mozilla/5.0 (Macintosh; Intel Mac OS X 10_15_3) AppleWebKit/537.36 (KHTML, like Gecko) Chrome/87.0.4280.88 Safari/537.36',\n",
    "    'accept': 'text/html,application/xhtml+xml,application/xml;q=0.9,image/avif,image/webp,image/apng,*/*;q=0.8,application/signed-exchange;v=b3;q=0.9',\n",
    "    'sec-fetch-site': 'none',\n",
    "    'sec-fetch-mode': 'navigate',\n",
    "    'sec-fetch-user': '?1',\n",
    "    'sec-fetch-dest': 'document',\n",
    "    'accept-language': 'en-US,en;q=0.9',\n",
    "    'cookie': 'session-id=262-9254476-6481301; i18n-prefs=GBP; ubid-acbuk=257-2712848-1169265; session-token=BQve35JIhhjxfVZv5bI40bEXUh0pTAj44FPruNlpJuIMFCJJSAeeCS+cv6ilyVNPR2q5OnFfAGUps27UpXirwnauJyAEdyJDyJ3rehy/GBtPrLN2TLny990tlzdGS8fHmYlm9sERLTU43EcYVb0feaynP589qFItNikc0EGTM3ij3ObsjZfcq+o08NKz2Bgr; lc-acbuk=en_GB; csm-hit=tb:9AFV81MC1TYQ62PM4ST2+sa-3A9JDW2PP30GT01MP30R-7Y4CYZTPC5P4KYR81VCM|1607816719013&t:1607816719013&adb:adblk_no; session-id-time=2082758401l',\n",
    "}"
   ]
  },
  {
   "cell_type": "code",
   "execution_count": 3,
   "metadata": {},
   "outputs": [
    {
     "data": {
      "text/plain": [
       "<Response [200]>"
      ]
     },
     "execution_count": 3,
     "metadata": {},
     "output_type": "execute_result"
    }
   ],
   "source": [
    "\n",
    "resp = requests.get(pages[0], headers=headers)\n",
    "resp"
   ]
  },
  {
   "cell_type": "code",
   "execution_count": 4,
   "metadata": {},
   "outputs": [],
   "source": [
    "soup = BeautifulSoup(resp.text, \"html.parser\") # html.parser, lxml"
   ]
  },
  {
   "cell_type": "code",
   "execution_count": 5,
   "metadata": {},
   "outputs": [],
   "source": [
    "reviews = soup.find_all(\"div\", {\"class\": \"a-section review aok-relative\"})"
   ]
  },
  {
   "cell_type": "code",
   "execution_count": 6,
   "metadata": {},
   "outputs": [],
   "source": [
    "def get_review_id(soup_obj: BeautifulSoup) -> str:\n",
    "    try:\n",
    "        review_id = soup_obj.find('div', {\"id\": \"\"}).get_text().strip()\n",
    "        return review_id\n",
    "    except Exception as e:\n",
    "        return 'no_id'\n",
    "        print(e)"
   ]
  },
  {
   "cell_type": "code",
   "execution_count": 7,
   "metadata": {},
   "outputs": [],
   "source": [
    "\n",
    "        \n",
    "def get_review_title(soup_obj: BeautifulSoup) -> str:\n",
    "    try:\n",
    "        review_title = soup_obj.find('a', {\"class\": \"review-title-content\"}).get_text().strip()\n",
    "        return review_title\n",
    "    except Exception as e:\n",
    "        return 'no_title'\n",
    "        print(e)\n",
    "      "
   ]
  },
  {
   "cell_type": "code",
   "execution_count": 8,
   "metadata": {},
   "outputs": [],
   "source": [
    "def get_review_stars(soup_obj: BeautifulSoup) -> str:\n",
    "    try:\n",
    "        review_str = soup_obj.find('a', {\"class\": \"a-link-normal\"}).get_text().replace('out of 5 stars','').strip()\n",
    "        return review_str\n",
    "    except Exception as e:\n",
    "        return 'no_stars'\n",
    "        print(e)"
   ]
  },
  {
   "cell_type": "code",
   "execution_count": 9,
   "metadata": {},
   "outputs": [],
   "source": [
    "def get_review_body(soup_obj: BeautifulSoup) -> str:\n",
    "    try:\n",
    "        review_body = soup_obj.find('span', \n",
    "            {\"class\": \"a-size-base review-text review-text-content\"}\n",
    "        ).get_text().strip()\n",
    "        return review_body\n",
    "    except Exception as e:\n",
    "        return 'no_body'\n",
    "        print(e)"
   ]
  },
  {
   "cell_type": "code",
   "execution_count": 10,
   "metadata": {},
   "outputs": [],
   "source": [
    "def get_review_date(soup_obj: BeautifulSoup) -> str:\n",
    "    try:\n",
    "        review_date = soup_obj.find('span', \n",
    "            {\"class\": \"a-size-base a-color-secondary review-date\"}\n",
    "        ).get_text().replace('Reviewed in the United Kingdom on ','').strip().strip()\n",
    "        return review_date\n",
    "    except Exception as e:\n",
    "        return 'no_date'\n",
    "        print(e)"
   ]
  },
  {
   "cell_type": "code",
   "execution_count": 11,
   "metadata": {},
   "outputs": [],
   "source": [
    "def get_review_components(soup_obj: BeautifulSoup) -> dict:\n",
    "    return {\n",
    "        'customer': get_review_id(soup_obj) ,\n",
    "        'title': get_review_title(soup_obj) ,\n",
    "        'stars': get_review_stars(soup_obj) , \n",
    "        'review': get_review_body(soup_obj), \n",
    "        'date': get_review_date(soup_obj)\n",
    "    }"
   ]
  },
  {
   "cell_type": "code",
   "execution_count": 12,
   "metadata": {},
   "outputs": [],
   "source": [
    "records = [get_review_components(rev) for rev in reviews]\n",
    "# df = pd.DataFrame.from_records(records)\n",
    "# df.to_csv('amazon_reviews.csv')"
   ]
  },
  {
   "cell_type": "code",
   "execution_count": 13,
   "metadata": {},
   "outputs": [
    {
     "name": "stdout",
     "output_type": "stream",
     "text": [
      "https://www.amazon.co.uk/gp/aw/reviews/B00OPA2XFG/ref=cm_cr_arp_d_paging_btm_next_2?pageNumber=2\n",
      "https://www.amazon.co.uk/gp/aw/reviews/B00OPA2XFG/ref=cm_cr_arp_d_paging_btm_next_3?pageNumber=3\n",
      "https://www.amazon.co.uk/gp/aw/reviews/B00OPA2XFG/ref=cm_cr_arp_d_paging_btm_next_4?pageNumber=4\n",
      "https://www.amazon.co.uk/gp/aw/reviews/B00OPA2XFG/ref=cm_cr_arp_d_paging_btm_next_5?pageNumber=5\n",
      "https://www.amazon.co.uk/gp/aw/reviews/B00OPA2XFG/ref=cm_cr_arp_d_paging_btm_next_6?pageNumber=6\n",
      "https://www.amazon.co.uk/gp/aw/reviews/B00OPA2XFG/ref=cm_cr_arp_d_paging_btm_next_7?pageNumber=7\n",
      "https://www.amazon.co.uk/gp/aw/reviews/B00OPA2XFG/ref=cm_cr_arp_d_paging_btm_next_8?pageNumber=8\n",
      "https://www.amazon.co.uk/gp/aw/reviews/B00OPA2XFG/ref=cm_cr_arp_d_paging_btm_next_9?pageNumber=9\n",
      "https://www.amazon.co.uk/gp/aw/reviews/B00OPA2XFG/ref=cm_cr_arp_d_paging_btm_next_10?pageNumber=10\n",
      "https://www.amazon.co.uk/gp/aw/reviews/B00OPA2XFG/ref=cm_cr_arp_d_paging_btm_next_11?pageNumber=11\n",
      "https://www.amazon.co.uk/gp/aw/reviews/B00OPA2XFG/ref=cm_cr_arp_d_paging_btm_next_12?pageNumber=12\n",
      "https://www.amazon.co.uk/gp/aw/reviews/B00OPA2XFG/ref=cm_cr_arp_d_paging_btm_next_13?pageNumber=13\n",
      "https://www.amazon.co.uk/gp/aw/reviews/B00OPA2XFG/ref=cm_cr_arp_d_paging_btm_next_14?pageNumber=14\n",
      "https://www.amazon.co.uk/gp/aw/reviews/B00OPA2XFG/ref=cm_cr_arp_d_paging_btm_next_15?pageNumber=15\n",
      "https://www.amazon.co.uk/gp/aw/reviews/B00OPA2XFG/ref=cm_cr_arp_d_paging_btm_next_16?pageNumber=16\n",
      "https://www.amazon.co.uk/gp/aw/reviews/B00OPA2XFG/ref=cm_cr_arp_d_paging_btm_next_17?pageNumber=17\n",
      "https://www.amazon.co.uk/gp/aw/reviews/B00OPA2XFG/ref=cm_cr_arp_d_paging_btm_next_18?pageNumber=18\n",
      "https://www.amazon.co.uk/gp/aw/reviews/B00OPA2XFG/ref=cm_cr_arp_d_paging_btm_next_19?pageNumber=19\n",
      "https://www.amazon.co.uk/gp/aw/reviews/B00OPA2XFG/ref=cm_cr_arp_d_paging_btm_next_20?pageNumber=20\n",
      "https://www.amazon.co.uk/gp/aw/reviews/B00OPA2XFG/ref=cm_cr_arp_d_paging_btm_next_21?pageNumber=21\n",
      "https://www.amazon.co.uk/gp/aw/reviews/B00OPA2XFG/ref=cm_cr_arp_d_paging_btm_next_22?pageNumber=22https://www.amazon.co.uk/gp/aw/reviews/B00OPA2XFG/ref=cm_cr_arp_d_paging_btm_next_23?pageNumber=23\n",
      "https://www.amazon.co.uk/gp/aw/reviews/B00OPA2XFG/ref=cm_cr_arp_d_paging_btm_next_24?pageNumber=24\n",
      "https://www.amazon.co.uk/gp/aw/reviews/B00OPA2XFG/ref=cm_cr_arp_d_paging_btm_next_25?pageNumber=25\n",
      "https://www.amazon.co.uk/gp/aw/reviews/B00OPA2XFG/ref=cm_cr_arp_d_paging_btm_next_26?pageNumber=26\n",
      "https://www.amazon.co.uk/gp/aw/reviews/B00OPA2XFG/ref=cm_cr_arp_d_paging_btm_next_27?pageNumber=27\n",
      "https://www.amazon.co.uk/gp/aw/reviews/B00OPA2XFG/ref=cm_cr_arp_d_paging_btm_next_28?pageNumber=28\n",
      "https://www.amazon.co.uk/gp/aw/reviews/B00OPA2XFG/ref=cm_cr_arp_d_paging_btm_next_29?pageNumber=29\n",
      "https://www.amazon.co.uk/gp/aw/reviews/B00OPA2XFG/ref=cm_cr_arp_d_paging_btm_next_30?pageNumber=30\n",
      "https://www.amazon.co.uk/gp/aw/reviews/B00OPA2XFG/ref=cm_cr_arp_d_paging_btm_next_31?pageNumber=31\n",
      "https://www.amazon.co.uk/gp/aw/reviews/B00OPA2XFG/ref=cm_cr_arp_d_paging_btm_next_32?pageNumber=32\n",
      "https://www.amazon.co.uk/gp/aw/reviews/B00OPA2XFG/ref=cm_cr_arp_d_paging_btm_next_33?pageNumber=33\n",
      "https://www.amazon.co.uk/gp/aw/reviews/B00OPA2XFG/ref=cm_cr_arp_d_paging_btm_next_34?pageNumber=34\n",
      "https://www.amazon.co.uk/gp/aw/reviews/B00OPA2XFG/ref=cm_cr_arp_d_paging_btm_next_35?pageNumber=35\n",
      "https://www.amazon.co.uk/gp/aw/reviews/B00OPA2XFG/ref=cm_cr_arp_d_paging_btm_next_36?pageNumber=36\n",
      "https://www.amazon.co.uk/gp/aw/reviews/B00OPA2XFG/ref=cm_cr_arp_d_paging_btm_next_37?pageNumber=37\n",
      "https://www.amazon.co.uk/gp/aw/reviews/B00OPA2XFG/ref=cm_cr_arp_d_paging_btm_next_38?pageNumber=38\n",
      "https://www.amazon.co.uk/gp/aw/reviews/B00OPA2XFG/ref=cm_cr_arp_d_paging_btm_next_39?pageNumber=39\n",
      "https://www.amazon.co.uk/gp/aw/reviews/B00OPA2XFG/ref=cm_cr_arp_d_paging_btm_next_40?pageNumber=40\n",
      "https://www.amazon.co.uk/gp/aw/reviews/B00OPA2XFG/ref=cm_cr_arp_d_paging_btm_next_41?pageNumber=41\n",
      "https://www.amazon.co.uk/gp/aw/reviews/B00OPA2XFG/ref=cm_cr_arp_d_paging_btm_next_42?pageNumber=42\n",
      "https://www.amazon.co.uk/gp/aw/reviews/B00OPA2XFG/ref=cm_cr_arp_d_paging_btm_next_43?pageNumber=43\n",
      "https://www.amazon.co.uk/gp/aw/reviews/B00OPA2XFG/ref=cm_cr_arp_d_paging_btm_next_44?pageNumber=44\n",
      "https://www.amazon.co.uk/gp/aw/reviews/B00OPA2XFG/ref=cm_cr_arp_d_paging_btm_next_45?pageNumber=45\n",
      "https://www.amazon.co.uk/gp/aw/reviews/B00OPA2XFG/ref=cm_cr_arp_d_paging_btm_next_46?pageNumber=46\n",
      "https://www.amazon.co.uk/gp/aw/reviews/B00OPA2XFG/ref=cm_cr_arp_d_paging_btm_next_47?pageNumber=47\n",
      "https://www.amazon.co.uk/gp/aw/reviews/B00OPA2XFG/ref=cm_cr_arp_d_paging_btm_next_48?pageNumber=48\n",
      "https://www.amazon.co.uk/gp/aw/reviews/B00OPA2XFG/ref=cm_cr_arp_d_paging_btm_next_49?pageNumber=49\n",
      "https://www.amazon.co.uk/gp/aw/reviews/B00OPA2XFG/ref=cm_cr_arp_d_paging_btm_next_50?pageNumber=50\n",
      "https://www.amazon.co.uk/gp/aw/reviews/B00OPA2XFG/ref=cm_cr_arp_d_paging_btm_next_51?pageNumber=51\n",
      "https://www.amazon.co.uk/gp/aw/reviews/B00OPA2XFG/ref=cm_cr_arp_d_paging_btm_next_52?pageNumber=52\n",
      "https://www.amazon.co.uk/gp/aw/reviews/B00OPA2XFG/ref=cm_cr_arp_d_paging_btm_next_53?pageNumber=53\n",
      "https://www.amazon.co.uk/gp/aw/reviews/B00OPA2XFG/ref=cm_cr_arp_d_paging_btm_next_54?pageNumber=54\n",
      "https://www.amazon.co.uk/gp/aw/reviews/B00OPA2XFG/ref=cm_cr_arp_d_paging_btm_next_55?pageNumber=55\n",
      "https://www.amazon.co.uk/gp/aw/reviews/B00OPA2XFG/ref=cm_cr_arp_d_paging_btm_next_56?pageNumber=56\n",
      "https://www.amazon.co.uk/gp/aw/reviews/B00OPA2XFG/ref=cm_cr_arp_d_paging_btm_next_57?pageNumber=57\n",
      "https://www.amazon.co.uk/gp/aw/reviews/B00OPA2XFG/ref=cm_cr_arp_d_paging_btm_next_58?pageNumber=58\n",
      "https://www.amazon.co.uk/gp/aw/reviews/B00OPA2XFG/ref=cm_cr_arp_d_paging_btm_next_59?pageNumber=59\n",
      "https://www.amazon.co.uk/gp/aw/reviews/B00OPA2XFG/ref=cm_cr_arp_d_paging_btm_next_60?pageNumber=60\n"
     ]
    },
    {
     "data": {
      "text/html": [
       "<div>\n",
       "<style scoped>\n",
       "    .dataframe tbody tr th:only-of-type {\n",
       "        vertical-align: middle;\n",
       "    }\n",
       "\n",
       "    .dataframe tbody tr th {\n",
       "        vertical-align: top;\n",
       "    }\n",
       "\n",
       "    .dataframe thead th {\n",
       "        text-align: right;\n",
       "    }\n",
       "</style>\n",
       "<table border=\"1\" class=\"dataframe\">\n",
       "  <thead>\n",
       "    <tr style=\"text-align: right;\">\n",
       "      <th></th>\n",
       "      <th>customer</th>\n",
       "      <th>title</th>\n",
       "      <th>stars</th>\n",
       "      <th>review</th>\n",
       "      <th>date</th>\n",
       "    </tr>\n",
       "  </thead>\n",
       "  <tbody>\n",
       "    <tr>\n",
       "      <td>0</td>\n",
       "      <td>witch</td>\n",
       "      <td>One Star</td>\n",
       "      <td>1.0</td>\n",
       "      <td>Thanks but no thanks, I'm not willing to pay t...</td>\n",
       "      <td>5 February 2017</td>\n",
       "    </tr>\n",
       "    <tr>\n",
       "      <td>1</td>\n",
       "      <td>Smith &amp; Jones</td>\n",
       "      <td>The worst thing for me since mandatory Video w...</td>\n",
       "      <td>1.0</td>\n",
       "      <td>I dropped Amazon Prime due to the massive hike...</td>\n",
       "      <td>9 May 2017</td>\n",
       "    </tr>\n",
       "    <tr>\n",
       "      <td>2</td>\n",
       "      <td>Zahid</td>\n",
       "      <td>Love concept! But not currently value for money.</td>\n",
       "      <td>2.0</td>\n",
       "      <td>Don't get me wrong, I am really enjoying liste...</td>\n",
       "      <td>17 January 2016</td>\n",
       "    </tr>\n",
       "    <tr>\n",
       "      <td>3</td>\n",
       "      <td>Shazebee</td>\n",
       "      <td>Imagine if Netflix used this concept. £8 for 1...</td>\n",
       "      <td>1.0</td>\n",
       "      <td>Currently trialing it but wont be continuing! ...</td>\n",
       "      <td>7 March 2017</td>\n",
       "    </tr>\n",
       "    <tr>\n",
       "      <td>4</td>\n",
       "      <td>Kieren Geaney</td>\n",
       "      <td>Good but a bit too expensive for whats on offer.</td>\n",
       "      <td>2.0</td>\n",
       "      <td>I finished a book in 2 weeks and am not allowe...</td>\n",
       "      <td>19 May 2017</td>\n",
       "    </tr>\n",
       "  </tbody>\n",
       "</table>\n",
       "</div>"
      ],
      "text/plain": [
       "        customer                                              title stars  \\\n",
       "0          witch                                           One Star   1.0   \n",
       "1  Smith & Jones  The worst thing for me since mandatory Video w...   1.0   \n",
       "2          Zahid   Love concept! But not currently value for money.   2.0   \n",
       "3       Shazebee  Imagine if Netflix used this concept. £8 for 1...   1.0   \n",
       "4  Kieren Geaney   Good but a bit too expensive for whats on offer.   2.0   \n",
       "\n",
       "                                              review             date  \n",
       "0  Thanks but no thanks, I'm not willing to pay t...  5 February 2017  \n",
       "1  I dropped Amazon Prime due to the massive hike...       9 May 2017  \n",
       "2  Don't get me wrong, I am really enjoying liste...  17 January 2016  \n",
       "3  Currently trialing it but wont be continuing! ...     7 March 2017  \n",
       "4  I finished a book in 2 weeks and am not allowe...      19 May 2017  "
      ]
     },
     "execution_count": 13,
     "metadata": {},
     "output_type": "execute_result"
    }
   ],
   "source": [
    "\n",
    "ALL_REVIEWS = []\n",
    "\n",
    "for u in pages:\n",
    "    print(u)\n",
    "    resp = requests.get(u, headers=headers)\n",
    "    soup = BeautifulSoup(resp.text, \"html.parser\")\n",
    "    reviews = soup.find_all(\"div\", {\"class\": \"a-section review aok-relative\"})\n",
    "    records = [get_review_components(rev) for rev in reviews]\n",
    "    ALL_REVIEWS.extend(records) \n",
    "    \n",
    "    \n",
    "out = pd.DataFrame.from_records(ALL_REVIEWS)\n",
    "out.head()"
   ]
  },
  {
   "cell_type": "code",
   "execution_count": 14,
   "metadata": {},
   "outputs": [
    {
     "data": {
      "text/plain": [
       "(580, 5)"
      ]
     },
     "execution_count": 14,
     "metadata": {},
     "output_type": "execute_result"
    }
   ],
   "source": [
    "out.shape"
   ]
  },
  {
   "cell_type": "code",
   "execution_count": 15,
   "metadata": {},
   "outputs": [
    {
     "data": {
      "text/html": [
       "<div>\n",
       "<style scoped>\n",
       "    .dataframe tbody tr th:only-of-type {\n",
       "        vertical-align: middle;\n",
       "    }\n",
       "\n",
       "    .dataframe tbody tr th {\n",
       "        vertical-align: top;\n",
       "    }\n",
       "\n",
       "    .dataframe thead th {\n",
       "        text-align: right;\n",
       "    }\n",
       "</style>\n",
       "<table border=\"1\" class=\"dataframe\">\n",
       "  <thead>\n",
       "    <tr style=\"text-align: right;\">\n",
       "      <th></th>\n",
       "      <th>customer</th>\n",
       "      <th>title</th>\n",
       "      <th>stars</th>\n",
       "      <th>review</th>\n",
       "      <th>date</th>\n",
       "    </tr>\n",
       "  </thead>\n",
       "  <tbody>\n",
       "    <tr>\n",
       "      <td>575</td>\n",
       "      <td>Mrs</td>\n",
       "      <td>Five Stars</td>\n",
       "      <td>5.0</td>\n",
       "      <td>A brilliant resource especially for encouragin...</td>\n",
       "      <td>30 March 2016</td>\n",
       "    </tr>\n",
       "    <tr>\n",
       "      <td>576</td>\n",
       "      <td>Amazon Customer</td>\n",
       "      <td>Four Stars</td>\n",
       "      <td>4.0</td>\n",
       "      <td>Simple to use and good quality though I think ...</td>\n",
       "      <td>17 May 2016</td>\n",
       "    </tr>\n",
       "    <tr>\n",
       "      <td>577</td>\n",
       "      <td>carole lesley shambrook</td>\n",
       "      <td>Five Stars</td>\n",
       "      <td>5.0</td>\n",
       "      <td>Great to listen in bed without having to sit u...</td>\n",
       "      <td>16 March 2016</td>\n",
       "    </tr>\n",
       "    <tr>\n",
       "      <td>578</td>\n",
       "      <td>Amazon Customer</td>\n",
       "      <td>Five Stars</td>\n",
       "      <td>5.0</td>\n",
       "      <td>Amazing wide variety of titles and subjects</td>\n",
       "      <td>21 May 2017</td>\n",
       "    </tr>\n",
       "    <tr>\n",
       "      <td>579</td>\n",
       "      <td>Amazon Customer</td>\n",
       "      <td>Title Lies</td>\n",
       "      <td>1.0</td>\n",
       "      <td>Didn't get my £10 Voucher!</td>\n",
       "      <td>12 July 2016</td>\n",
       "    </tr>\n",
       "  </tbody>\n",
       "</table>\n",
       "</div>"
      ],
      "text/plain": [
       "                    customer       title stars  \\\n",
       "575                      Mrs  Five Stars   5.0   \n",
       "576          Amazon Customer  Four Stars   4.0   \n",
       "577  carole lesley shambrook  Five Stars   5.0   \n",
       "578          Amazon Customer  Five Stars   5.0   \n",
       "579          Amazon Customer  Title Lies   1.0   \n",
       "\n",
       "                                                review           date  \n",
       "575  A brilliant resource especially for encouragin...  30 March 2016  \n",
       "576  Simple to use and good quality though I think ...    17 May 2016  \n",
       "577  Great to listen in bed without having to sit u...  16 March 2016  \n",
       "578        Amazing wide variety of titles and subjects    21 May 2017  \n",
       "579                         Didn't get my £10 Voucher!   12 July 2016  "
      ]
     },
     "execution_count": 15,
     "metadata": {},
     "output_type": "execute_result"
    }
   ],
   "source": [
    "out.tail(5)"
   ]
  },
  {
   "cell_type": "code",
   "execution_count": 16,
   "metadata": {},
   "outputs": [
    {
     "data": {
      "text/plain": [
       "580"
      ]
     },
     "execution_count": 16,
     "metadata": {},
     "output_type": "execute_result"
    }
   ],
   "source": [
    "out['review'].duplicated().count()"
   ]
  },
  {
   "cell_type": "code",
   "execution_count": 17,
   "metadata": {},
   "outputs": [
    {
     "data": {
      "text/plain": [
       "customer    object\n",
       "title       object\n",
       "stars       object\n",
       "review      object\n",
       "date        object\n",
       "dtype: object"
      ]
     },
     "execution_count": 17,
     "metadata": {},
     "output_type": "execute_result"
    }
   ],
   "source": [
    "out.dtypes"
   ]
  },
  {
   "cell_type": "code",
   "execution_count": 19,
   "metadata": {},
   "outputs": [],
   "source": [
    "out.to_csv('amazon_reviews.csv')"
   ]
  },
  {
   "cell_type": "code",
   "execution_count": null,
   "metadata": {},
   "outputs": [],
   "source": []
  }
 ],
 "metadata": {
  "kernelspec": {
   "display_name": "Python 3",
   "language": "python",
   "name": "python3"
  },
  "language_info": {
   "codemirror_mode": {
    "name": "ipython",
    "version": 3
   },
   "file_extension": ".py",
   "mimetype": "text/x-python",
   "name": "python",
   "nbconvert_exporter": "python",
   "pygments_lexer": "ipython3",
   "version": "3.7.4"
  }
 },
 "nbformat": 4,
 "nbformat_minor": 2
}
