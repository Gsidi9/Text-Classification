{
 "cells": [
  {
   "cell_type": "code",
   "execution_count": 1,
   "metadata": {},
   "outputs": [],
   "source": [
    "import pandas as pd\n",
    "import numpy as np\n",
    "import json\n",
    "import tensorflow as tf\n",
    "\n",
    "from tensorflow.keras.preprocessing.text import Tokenizer\n",
    "from tensorflow.keras.preprocessing.sequence import pad_sequences"
   ]
  },
  {
   "cell_type": "code",
   "execution_count": 2,
   "metadata": {},
   "outputs": [
    {
     "data": {
      "text/html": [
       "<div>\n",
       "<style scoped>\n",
       "    .dataframe tbody tr th:only-of-type {\n",
       "        vertical-align: middle;\n",
       "    }\n",
       "\n",
       "    .dataframe tbody tr th {\n",
       "        vertical-align: top;\n",
       "    }\n",
       "\n",
       "    .dataframe thead th {\n",
       "        text-align: right;\n",
       "    }\n",
       "</style>\n",
       "<table border=\"1\" class=\"dataframe\">\n",
       "  <thead>\n",
       "    <tr style=\"text-align: right;\">\n",
       "      <th></th>\n",
       "      <th>id</th>\n",
       "      <th>customer</th>\n",
       "      <th>title</th>\n",
       "      <th>stars</th>\n",
       "      <th>review</th>\n",
       "      <th>date</th>\n",
       "    </tr>\n",
       "  </thead>\n",
       "  <tbody>\n",
       "    <tr>\n",
       "      <td>0</td>\n",
       "      <td>0</td>\n",
       "      <td>witch</td>\n",
       "      <td>One Star</td>\n",
       "      <td>1.0</td>\n",
       "      <td>Thanks but no thanks, I'm not willing to pay t...</td>\n",
       "      <td>5 February 2017</td>\n",
       "    </tr>\n",
       "    <tr>\n",
       "      <td>1</td>\n",
       "      <td>1</td>\n",
       "      <td>Smith &amp; Jones</td>\n",
       "      <td>The worst thing for me since mandatory Video w...</td>\n",
       "      <td>1.0</td>\n",
       "      <td>I dropped Amazon Prime due to the massive hike...</td>\n",
       "      <td>9 May 2017</td>\n",
       "    </tr>\n",
       "    <tr>\n",
       "      <td>2</td>\n",
       "      <td>2</td>\n",
       "      <td>Zahid</td>\n",
       "      <td>Love concept! But not currently value for money.</td>\n",
       "      <td>2.0</td>\n",
       "      <td>Don't get me wrong, I am really enjoying liste...</td>\n",
       "      <td>17 January 2016</td>\n",
       "    </tr>\n",
       "    <tr>\n",
       "      <td>3</td>\n",
       "      <td>3</td>\n",
       "      <td>Shazebee</td>\n",
       "      <td>Imagine if Netflix used this concept. £8 for 1...</td>\n",
       "      <td>1.0</td>\n",
       "      <td>Currently trialing it but wont be continuing! ...</td>\n",
       "      <td>7 March 2017</td>\n",
       "    </tr>\n",
       "    <tr>\n",
       "      <td>4</td>\n",
       "      <td>4</td>\n",
       "      <td>Kieren Geaney</td>\n",
       "      <td>Good but a bit too expensive for whats on offer.</td>\n",
       "      <td>2.0</td>\n",
       "      <td>I finished a book in 2 weeks and am not allowe...</td>\n",
       "      <td>19 May 2017</td>\n",
       "    </tr>\n",
       "  </tbody>\n",
       "</table>\n",
       "</div>"
      ],
      "text/plain": [
       "   id       customer                                              title  \\\n",
       "0   0          witch                                           One Star   \n",
       "1   1  Smith & Jones  The worst thing for me since mandatory Video w...   \n",
       "2   2          Zahid   Love concept! But not currently value for money.   \n",
       "3   3       Shazebee  Imagine if Netflix used this concept. £8 for 1...   \n",
       "4   4  Kieren Geaney   Good but a bit too expensive for whats on offer.   \n",
       "\n",
       "   stars                                             review             date  \n",
       "0    1.0  Thanks but no thanks, I'm not willing to pay t...  5 February 2017  \n",
       "1    1.0  I dropped Amazon Prime due to the massive hike...       9 May 2017  \n",
       "2    2.0  Don't get me wrong, I am really enjoying liste...  17 January 2016  \n",
       "3    1.0  Currently trialing it but wont be continuing! ...     7 March 2017  \n",
       "4    2.0  I finished a book in 2 weeks and am not allowe...      19 May 2017  "
      ]
     },
     "execution_count": 2,
     "metadata": {},
     "output_type": "execute_result"
    }
   ],
   "source": [
    "df = pd.read_csv('/Users/goundosidibe/Downloads/amazon_reviews.csv')\n",
    "\n",
    "#changing column names\n",
    "df.columns = ['id','customer','title','stars','review','date']\n",
    "df.head(5)"
   ]
  },
  {
   "cell_type": "code",
   "execution_count": 3,
   "metadata": {},
   "outputs": [],
   "source": [
    "sentences = df['review']\n",
    "labels = df[\"stars\"]"
   ]
  },
  {
   "cell_type": "code",
   "execution_count": 4,
   "metadata": {},
   "outputs": [
    {
     "data": {
      "text/plain": [
       "(580, 6)"
      ]
     },
     "execution_count": 4,
     "metadata": {},
     "output_type": "execute_result"
    }
   ],
   "source": [
    "df.shape"
   ]
  },
  {
   "cell_type": "code",
   "execution_count": 5,
   "metadata": {},
   "outputs": [],
   "source": [
    "vocab_size = 10000\n",
    "embedding_dim = 16\n",
    "max_length = 100\n",
    "trunc_type='post'\n",
    "padding_type='post'\n",
    "oov_tok = \"<OOV>\"\n",
    "training_size = 300"
   ]
  },
  {
   "cell_type": "code",
   "execution_count": 6,
   "metadata": {},
   "outputs": [],
   "source": [
    "training_sentences = sentences[0:training_size]\n",
    "testing_sentences = sentences[training_size:]\n",
    "training_labels = labels[0:training_size]\n",
    "testing_labels = labels[training_size:]"
   ]
  },
  {
   "cell_type": "code",
   "execution_count": 7,
   "metadata": {},
   "outputs": [],
   "source": [
    "# x_val = sentences[200:training_sentences]\n",
    "# partial_x_train = sentences[training_sentences:]\n",
    "# y_val = labels[200:training_labels]\n",
    "# partial_y_trains = labels[training_labels:]"
   ]
  },
  {
   "cell_type": "code",
   "execution_count": 8,
   "metadata": {},
   "outputs": [
    {
     "data": {
      "text/plain": [
       "(300,)"
      ]
     },
     "execution_count": 8,
     "metadata": {},
     "output_type": "execute_result"
    }
   ],
   "source": [
    "training_sentences.shape"
   ]
  },
  {
   "cell_type": "code",
   "execution_count": 9,
   "metadata": {},
   "outputs": [
    {
     "data": {
      "text/plain": [
       "(280,)"
      ]
     },
     "execution_count": 9,
     "metadata": {},
     "output_type": "execute_result"
    }
   ],
   "source": [
    "testing_sentences.shape"
   ]
  },
  {
   "cell_type": "code",
   "execution_count": 10,
   "metadata": {},
   "outputs": [],
   "source": [
    "tokenizer = Tokenizer(num_words=vocab_size, oov_token=oov_tok)\n",
    "tokenizer.fit_on_texts(training_sentences)\n",
    "\n",
    "word_index = tokenizer.word_index\n",
    "\n",
    "training_sequences = tokenizer.texts_to_sequences(training_sentences)\n",
    "training_padded = pad_sequences(training_sequences, maxlen=max_length, padding=padding_type, truncating=trunc_type)\n",
    "\n",
    "testing_sequences = tokenizer.texts_to_sequences(testing_sentences)\n",
    "testing_padded = pad_sequences(testing_sequences, maxlen=max_length, padding=padding_type, truncating=trunc_type)"
   ]
  },
  {
   "cell_type": "code",
   "execution_count": 11,
   "metadata": {},
   "outputs": [],
   "source": [
    "# Need this block to get it to work with TensorFlow 2.x\n",
    "import numpy as np\n",
    "training_padded = np.array(training_padded)\n",
    "training_labels = np.array(training_labels)\n",
    "testing_padded = np.array(testing_padded)\n",
    "testing_labels = np.array(testing_labels)"
   ]
  },
  {
   "cell_type": "code",
   "execution_count": 12,
   "metadata": {},
   "outputs": [],
   "source": [
    "model = tf.keras.Sequential([\n",
    "    tf.keras.layers.Embedding(vocab_size, embedding_dim, input_length=max_length),\n",
    "    tf.keras.layers.GlobalAveragePooling1D(),\n",
    "    tf.keras.layers.Dense(24, activation='relu'),\n",
    "    tf.keras.layers.Dense(1, activation='sigmoid')\n",
    "])\n",
    "model.compile(loss='binary_crossentropy',optimizer='adam',metrics=['accuracy'])"
   ]
  },
  {
   "cell_type": "code",
   "execution_count": 13,
   "metadata": {},
   "outputs": [
    {
     "name": "stdout",
     "output_type": "stream",
     "text": [
      "Model: \"sequential\"\n",
      "_________________________________________________________________\n",
      "Layer (type)                 Output Shape              Param #   \n",
      "=================================================================\n",
      "embedding (Embedding)        (None, 100, 16)           160000    \n",
      "_________________________________________________________________\n",
      "global_average_pooling1d (Gl (None, 16)                0         \n",
      "_________________________________________________________________\n",
      "dense (Dense)                (None, 24)                408       \n",
      "_________________________________________________________________\n",
      "dense_1 (Dense)              (None, 1)                 25        \n",
      "=================================================================\n",
      "Total params: 160,433\n",
      "Trainable params: 160,433\n",
      "Non-trainable params: 0\n",
      "_________________________________________________________________\n"
     ]
    }
   ],
   "source": [
    "model.summary()"
   ]
  },
  {
   "cell_type": "code",
   "execution_count": 14,
   "metadata": {},
   "outputs": [
    {
     "name": "stdout",
     "output_type": "stream",
     "text": [
      "Epoch 1/10\n",
      "10/10 - 0s - loss: 0.6459 - accuracy: 0.6800 - val_loss: 0.4637 - val_accuracy: 0.3393\n",
      "Epoch 2/10\n",
      "10/10 - 0s - loss: 0.5640 - accuracy: 0.6833 - val_loss: 0.2675 - val_accuracy: 0.3393\n",
      "Epoch 3/10\n",
      "10/10 - 0s - loss: 0.4673 - accuracy: 0.6833 - val_loss: 0.0238 - val_accuracy: 0.3393\n",
      "Epoch 4/10\n",
      "10/10 - 0s - loss: 0.3463 - accuracy: 0.6833 - val_loss: -2.7005e-01 - val_accuracy: 0.3393\n",
      "Epoch 5/10\n",
      "10/10 - 0s - loss: 0.1996 - accuracy: 0.6833 - val_loss: -6.7044e-01 - val_accuracy: 0.3393\n",
      "Epoch 6/10\n",
      "10/10 - 0s - loss: 0.0193 - accuracy: 0.6833 - val_loss: -1.1596e+00 - val_accuracy: 0.3393\n",
      "Epoch 7/10\n",
      "10/10 - 0s - loss: -2.0937e-01 - accuracy: 0.6833 - val_loss: -1.7370e+00 - val_accuracy: 0.3393\n",
      "Epoch 8/10\n",
      "10/10 - 0s - loss: -4.6199e-01 - accuracy: 0.6833 - val_loss: -2.4666e+00 - val_accuracy: 0.3393\n",
      "Epoch 9/10\n",
      "10/10 - 0s - loss: -7.7583e-01 - accuracy: 0.6833 - val_loss: -3.3052e+00 - val_accuracy: 0.3393\n",
      "Epoch 10/10\n",
      "10/10 - 0s - loss: -1.1109e+00 - accuracy: 0.6833 - val_loss: -4.2761e+00 - val_accuracy: 0.3393\n"
     ]
    }
   ],
   "source": [
    "num_epochs = 10\n",
    "history = model.fit(training_padded, training_labels, epochs=num_epochs, \n",
    "                    validation_data=(testing_padded, testing_labels), verbose=2)"
   ]
  },
  {
   "cell_type": "code",
   "execution_count": 15,
   "metadata": {},
   "outputs": [],
   "source": [
    "import matplotlib.pyplot as plt\n",
    "\n",
    "\n",
    "def plot_graphs(history, string):\n",
    "    plt.plot(history.history[string])\n",
    "    plt.plot(history.history['val_'+string])\n",
    "    plt.xlabel(\"Epochs\")\n",
    "    plt.ylabel(string)\n",
    "    plt.legend([string, 'val_'+string])\n",
    "    plt.show()\n",
    "\n",
    "#     plot_graphs(history, \"accuracy\")\n",
    "#     plot_graphs(history, \"loss\")"
   ]
  },
  {
   "cell_type": "code",
   "execution_count": 16,
   "metadata": {},
   "outputs": [
    {
     "data": {
      "image/png": "[encoded data removed]",
      "text/plain": [
       "<Figure size 432x288 with 1 Axes>"
      ]
     },
     "metadata": {
      "needs_background": "light"
     },
     "output_type": "display_data"
    }
   ],
   "source": [
    "plot_graphs(history, \"accuracy\")"
   ]
  },
  {
   "cell_type": "code",
   "execution_count": 17,
   "metadata": {},
   "outputs": [
    {
     "data": {
      "image/png": "[encoded data removed]",
      "text/plain": [
       "<Figure size 432x288 with 1 Axes>"
      ]
     },
     "metadata": {
      "needs_background": "light"
     },
     "output_type": "display_data"
    }
   ],
   "source": [
    "plot_graphs(history, \"loss\")"
   ]
  }
 ],
 "metadata": {
  "kernelspec": {
   "display_name": "Python 3",
   "language": "python",
   "name": "python3"
  },
  "language_info": {
   "codemirror_mode": {
    "name": "ipython",
    "version": 3
   },
   "file_extension": ".py",
   "mimetype": "text/x-python",
   "name": "python",
   "nbconvert_exporter": "python",
   "pygments_lexer": "ipython3",
   "version": "3.7.4"
  }
 },
 "nbformat": 4,
 "nbformat_minor": 2
}
